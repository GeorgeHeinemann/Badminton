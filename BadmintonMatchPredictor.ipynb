{
 "cells": [
  {
   "cell_type": "markdown",
   "metadata": {},
   "source": [
    "# 1. Import dataset"
   ]
  },
  {
   "cell_type": "code",
   "execution_count": 111,
   "metadata": {},
   "outputs": [
    {
     "data": {
      "text/plain": [
       "'C:\\\\Users\\\\hei79524\\\\Documents\\\\Coding Learning\\\\datasets'"
      ]
     },
     "execution_count": 111,
     "metadata": {},
     "output_type": "execute_result"
    }
   ],
   "source": [
    "import os\n",
    "os.getcwd()"
   ]
  },
  {
   "cell_type": "code",
   "execution_count": 112,
   "metadata": {},
   "outputs": [],
   "source": [
    "# import pandas\n",
    "import pandas as pd"
   ]
  },
  {
   "cell_type": "code",
   "execution_count": 113,
   "metadata": {
    "scrolled": true
   },
   "outputs": [
    {
     "data": {
      "text/html": [
       "<div>\n",
       "<style scoped>\n",
       "    .dataframe tbody tr th:only-of-type {\n",
       "        vertical-align: middle;\n",
       "    }\n",
       "\n",
       "    .dataframe tbody tr th {\n",
       "        vertical-align: top;\n",
       "    }\n",
       "\n",
       "    .dataframe thead th {\n",
       "        text-align: right;\n",
       "    }\n",
       "</style>\n",
       "<table border=\"1\" class=\"dataframe\">\n",
       "  <thead>\n",
       "    <tr style=\"text-align: right;\">\n",
       "      <th></th>\n",
       "      <th>RankDifference</th>\n",
       "      <th>HeadToHeadDifference</th>\n",
       "      <th>DifferenceDurationToDateVsOpponent</th>\n",
       "      <th>DifferenceDurationInLastYear</th>\n",
       "      <th>DifferenceDurationOnCourtThisTournament</th>\n",
       "      <th>DifferenceMatchesInLastYear</th>\n",
       "      <th>DifferenceTournamentsInLastYear</th>\n",
       "      <th>MatchResult</th>\n",
       "    </tr>\n",
       "    <tr>\n",
       "      <th>MatchAthleteID</th>\n",
       "      <th></th>\n",
       "      <th></th>\n",
       "      <th></th>\n",
       "      <th></th>\n",
       "      <th></th>\n",
       "      <th></th>\n",
       "      <th></th>\n",
       "      <th></th>\n",
       "    </tr>\n",
       "  </thead>\n",
       "  <tbody>\n",
       "    <tr>\n",
       "      <th>128_P1</th>\n",
       "      <td>13</td>\n",
       "      <td>0</td>\n",
       "      <td>-3566.0</td>\n",
       "      <td>-1517.0</td>\n",
       "      <td>NaN</td>\n",
       "      <td>-33.0</td>\n",
       "      <td>-16.0</td>\n",
       "      <td>Lost</td>\n",
       "    </tr>\n",
       "    <tr>\n",
       "      <th>142_P1</th>\n",
       "      <td>11</td>\n",
       "      <td>0</td>\n",
       "      <td>-4695.0</td>\n",
       "      <td>-36.0</td>\n",
       "      <td>12.0</td>\n",
       "      <td>-4.0</td>\n",
       "      <td>5.0</td>\n",
       "      <td>Lost</td>\n",
       "    </tr>\n",
       "    <tr>\n",
       "      <th>168_P1</th>\n",
       "      <td>11</td>\n",
       "      <td>0</td>\n",
       "      <td>-7899.0</td>\n",
       "      <td>189.0</td>\n",
       "      <td>-3.0</td>\n",
       "      <td>3.0</td>\n",
       "      <td>1.0</td>\n",
       "      <td>Lost</td>\n",
       "    </tr>\n",
       "    <tr>\n",
       "      <th>183_P1</th>\n",
       "      <td>110</td>\n",
       "      <td>0</td>\n",
       "      <td>-6164.0</td>\n",
       "      <td>-1111.0</td>\n",
       "      <td>NaN</td>\n",
       "      <td>-20.0</td>\n",
       "      <td>-11.0</td>\n",
       "      <td>Lost</td>\n",
       "    </tr>\n",
       "    <tr>\n",
       "      <th>192_P1</th>\n",
       "      <td>588</td>\n",
       "      <td>0</td>\n",
       "      <td>-731.0</td>\n",
       "      <td>-312.0</td>\n",
       "      <td>NaN</td>\n",
       "      <td>-7.0</td>\n",
       "      <td>-6.0</td>\n",
       "      <td>Lost</td>\n",
       "    </tr>\n",
       "  </tbody>\n",
       "</table>\n",
       "</div>"
      ],
      "text/plain": [
       "                RankDifference  HeadToHeadDifference  \\\n",
       "MatchAthleteID                                         \n",
       "128_P1                      13                     0   \n",
       "142_P1                      11                     0   \n",
       "168_P1                      11                     0   \n",
       "183_P1                     110                     0   \n",
       "192_P1                     588                     0   \n",
       "\n",
       "                DifferenceDurationToDateVsOpponent  \\\n",
       "MatchAthleteID                                       \n",
       "128_P1                                     -3566.0   \n",
       "142_P1                                     -4695.0   \n",
       "168_P1                                     -7899.0   \n",
       "183_P1                                     -6164.0   \n",
       "192_P1                                      -731.0   \n",
       "\n",
       "                DifferenceDurationInLastYear  \\\n",
       "MatchAthleteID                                 \n",
       "128_P1                               -1517.0   \n",
       "142_P1                                 -36.0   \n",
       "168_P1                                 189.0   \n",
       "183_P1                               -1111.0   \n",
       "192_P1                                -312.0   \n",
       "\n",
       "                DifferenceDurationOnCourtThisTournament  \\\n",
       "MatchAthleteID                                            \n",
       "128_P1                                              NaN   \n",
       "142_P1                                             12.0   \n",
       "168_P1                                             -3.0   \n",
       "183_P1                                              NaN   \n",
       "192_P1                                              NaN   \n",
       "\n",
       "                DifferenceMatchesInLastYear  DifferenceTournamentsInLastYear  \\\n",
       "MatchAthleteID                                                                 \n",
       "128_P1                                -33.0                            -16.0   \n",
       "142_P1                                 -4.0                              5.0   \n",
       "168_P1                                  3.0                              1.0   \n",
       "183_P1                                -20.0                            -11.0   \n",
       "192_P1                                 -7.0                             -6.0   \n",
       "\n",
       "               MatchResult  \n",
       "MatchAthleteID              \n",
       "128_P1                Lost  \n",
       "142_P1                Lost  \n",
       "168_P1                Lost  \n",
       "183_P1                Lost  \n",
       "192_P1                Lost  "
      ]
     },
     "execution_count": 113,
     "metadata": {},
     "output_type": "execute_result"
    }
   ],
   "source": [
    "# read CSV file\n",
    "data = pd.read_csv('badminton_data_model_predictive_inputs.csv', index_col=0)\n",
    "\n",
    "# display the first 5 rows\n",
    "data.head()"
   ]
  },
  {
   "cell_type": "code",
   "execution_count": 114,
   "metadata": {},
   "outputs": [
    {
     "data": {
      "text/plain": [
       "<matplotlib.axes._subplots.AxesSubplot at 0x3694be80>"
      ]
     },
     "execution_count": 114,
     "metadata": {},
     "output_type": "execute_result"
    },
    {
     "data": {
      "image/png": "[encoded data removed]",
      "text/plain": [
       "<Figure size 432x288 with 1 Axes>"
      ]
     },
     "metadata": {
      "needs_background": "light"
     },
     "output_type": "display_data"
    }
   ],
   "source": [
    "# identify any null data\n",
    "sns.heatmap(data.isnull(),yticklabels=False,cbar=False,cmap='viridis')"
   ]
  },
  {
   "cell_type": "code",
   "execution_count": 115,
   "metadata": {},
   "outputs": [
    {
     "data": {
      "text/plain": [
       "<matplotlib.axes._subplots.AxesSubplot at 0x36ef8ef0>"
      ]
     },
     "execution_count": 115,
     "metadata": {},
     "output_type": "execute_result"
    },
    {
     "data": {
      "image/png": "[encoded data removed]",
      "text/plain": [
       "<Figure size 432x288 with 1 Axes>"
      ]
     },
     "metadata": {
      "needs_background": "light"
     },
     "output_type": "display_data"
    }
   ],
   "source": [
    "# fill the null values in Differences to 0\n",
    "data = data.fillna(value = 0)\n",
    "sns.heatmap(data.isnull(),yticklabels=False,cbar=False,cmap='viridis')"
   ]
  },
  {
   "cell_type": "code",
   "execution_count": 116,
   "metadata": {},
   "outputs": [
    {
     "data": {
      "text/plain": [
       "(22186, 1)"
      ]
     },
     "execution_count": 116,
     "metadata": {},
     "output_type": "execute_result"
    }
   ],
   "source": [
    "results = pd.get_dummies(data['MatchResult'],drop_first = True)\n",
    "results.shape"
   ]
  },
  {
   "cell_type": "code",
   "execution_count": 117,
   "metadata": {
    "scrolled": true
   },
   "outputs": [
    {
     "data": {
      "text/plain": [
       "(22186, 8)"
      ]
     },
     "execution_count": 117,
     "metadata": {},
     "output_type": "execute_result"
    }
   ],
   "source": [
    "# check the shape of the DataFrame (rows, columns)\n",
    "data.shape"
   ]
  },
  {
   "cell_type": "code",
   "execution_count": 118,
   "metadata": {},
   "outputs": [
    {
     "data": {
      "text/html": [
       "<div>\n",
       "<style scoped>\n",
       "    .dataframe tbody tr th:only-of-type {\n",
       "        vertical-align: middle;\n",
       "    }\n",
       "\n",
       "    .dataframe tbody tr th {\n",
       "        vertical-align: top;\n",
       "    }\n",
       "\n",
       "    .dataframe thead th {\n",
       "        text-align: right;\n",
       "    }\n",
       "</style>\n",
       "<table border=\"1\" class=\"dataframe\">\n",
       "  <thead>\n",
       "    <tr style=\"text-align: right;\">\n",
       "      <th></th>\n",
       "      <th>RankDifference</th>\n",
       "      <th>HeadToHeadDifference</th>\n",
       "      <th>DifferenceDurationToDateVsOpponent</th>\n",
       "      <th>DifferenceDurationInLastYear</th>\n",
       "      <th>DifferenceDurationOnCourtThisTournament</th>\n",
       "      <th>DifferenceMatchesInLastYear</th>\n",
       "      <th>DifferenceTournamentsInLastYear</th>\n",
       "      <th>Won</th>\n",
       "    </tr>\n",
       "    <tr>\n",
       "      <th>MatchAthleteID</th>\n",
       "      <th></th>\n",
       "      <th></th>\n",
       "      <th></th>\n",
       "      <th></th>\n",
       "      <th></th>\n",
       "      <th></th>\n",
       "      <th></th>\n",
       "      <th></th>\n",
       "    </tr>\n",
       "  </thead>\n",
       "  <tbody>\n",
       "    <tr>\n",
       "      <th>128_P1</th>\n",
       "      <td>13</td>\n",
       "      <td>0</td>\n",
       "      <td>-3566.0</td>\n",
       "      <td>-1517.0</td>\n",
       "      <td>0.0</td>\n",
       "      <td>-33.0</td>\n",
       "      <td>-16.0</td>\n",
       "      <td>0</td>\n",
       "    </tr>\n",
       "    <tr>\n",
       "      <th>142_P1</th>\n",
       "      <td>11</td>\n",
       "      <td>0</td>\n",
       "      <td>-4695.0</td>\n",
       "      <td>-36.0</td>\n",
       "      <td>12.0</td>\n",
       "      <td>-4.0</td>\n",
       "      <td>5.0</td>\n",
       "      <td>0</td>\n",
       "    </tr>\n",
       "    <tr>\n",
       "      <th>168_P1</th>\n",
       "      <td>11</td>\n",
       "      <td>0</td>\n",
       "      <td>-7899.0</td>\n",
       "      <td>189.0</td>\n",
       "      <td>-3.0</td>\n",
       "      <td>3.0</td>\n",
       "      <td>1.0</td>\n",
       "      <td>0</td>\n",
       "    </tr>\n",
       "    <tr>\n",
       "      <th>183_P1</th>\n",
       "      <td>110</td>\n",
       "      <td>0</td>\n",
       "      <td>-6164.0</td>\n",
       "      <td>-1111.0</td>\n",
       "      <td>0.0</td>\n",
       "      <td>-20.0</td>\n",
       "      <td>-11.0</td>\n",
       "      <td>0</td>\n",
       "    </tr>\n",
       "    <tr>\n",
       "      <th>192_P1</th>\n",
       "      <td>588</td>\n",
       "      <td>0</td>\n",
       "      <td>-731.0</td>\n",
       "      <td>-312.0</td>\n",
       "      <td>0.0</td>\n",
       "      <td>-7.0</td>\n",
       "      <td>-6.0</td>\n",
       "      <td>0</td>\n",
       "    </tr>\n",
       "  </tbody>\n",
       "</table>\n",
       "</div>"
      ],
      "text/plain": [
       "                RankDifference  HeadToHeadDifference  \\\n",
       "MatchAthleteID                                         \n",
       "128_P1                      13                     0   \n",
       "142_P1                      11                     0   \n",
       "168_P1                      11                     0   \n",
       "183_P1                     110                     0   \n",
       "192_P1                     588                     0   \n",
       "\n",
       "                DifferenceDurationToDateVsOpponent  \\\n",
       "MatchAthleteID                                       \n",
       "128_P1                                     -3566.0   \n",
       "142_P1                                     -4695.0   \n",
       "168_P1                                     -7899.0   \n",
       "183_P1                                     -6164.0   \n",
       "192_P1                                      -731.0   \n",
       "\n",
       "                DifferenceDurationInLastYear  \\\n",
       "MatchAthleteID                                 \n",
       "128_P1                               -1517.0   \n",
       "142_P1                                 -36.0   \n",
       "168_P1                                 189.0   \n",
       "183_P1                               -1111.0   \n",
       "192_P1                                -312.0   \n",
       "\n",
       "                DifferenceDurationOnCourtThisTournament  \\\n",
       "MatchAthleteID                                            \n",
       "128_P1                                              0.0   \n",
       "142_P1                                             12.0   \n",
       "168_P1                                             -3.0   \n",
       "183_P1                                              0.0   \n",
       "192_P1                                              0.0   \n",
       "\n",
       "                DifferenceMatchesInLastYear  DifferenceTournamentsInLastYear  \\\n",
       "MatchAthleteID                                                                 \n",
       "128_P1                                -33.0                            -16.0   \n",
       "142_P1                                 -4.0                              5.0   \n",
       "168_P1                                  3.0                              1.0   \n",
       "183_P1                                -20.0                            -11.0   \n",
       "192_P1                                 -7.0                             -6.0   \n",
       "\n",
       "                Won  \n",
       "MatchAthleteID       \n",
       "128_P1            0  \n",
       "142_P1            0  \n",
       "168_P1            0  \n",
       "183_P1            0  \n",
       "192_P1            0  "
      ]
     },
     "execution_count": 118,
     "metadata": {},
     "output_type": "execute_result"
    }
   ],
   "source": [
    "data = pd.concat([data,results],axis=1)\n",
    "data.drop('MatchResult',axis=1,inplace=True)\n",
    "data.head()"
   ]
  },
  {
   "cell_type": "markdown",
   "metadata": {},
   "source": [
    "# 2. Analyse data"
   ]
  },
  {
   "cell_type": "code",
   "execution_count": 6,
   "metadata": {},
   "outputs": [],
   "source": [
    "# import seaborn\n",
    "import seaborn as sns\n",
    "\n",
    "# allow plots to appear within the notebook\n",
    "%matplotlib inline"
   ]
  },
  {
   "cell_type": "code",
   "execution_count": 119,
   "metadata": {
    "scrolled": true
   },
   "outputs": [
    {
     "data": {
      "text/plain": [
       "<matplotlib.axes._subplots.AxesSubplot at 0x38d353c8>"
      ]
     },
     "execution_count": 119,
     "metadata": {},
     "output_type": "execute_result"
    },
    {
     "data": {
      "image/png": "[encoded data removed]",
      "text/plain": [
       "<Figure size 432x288 with 1 Axes>"
      ]
     },
     "metadata": {
      "needs_background": "light"
     },
     "output_type": "display_data"
    }
   ],
   "source": [
    "sns.stripplot(x=\"Won\", y=\"RankDifference\", data=data)"
   ]
  },
  {
   "cell_type": "code",
   "execution_count": 121,
   "metadata": {
    "scrolled": false
   },
   "outputs": [
    {
     "data": {
      "text/plain": [
       "<matplotlib.axes._subplots.AxesSubplot at 0x38d92e48>"
      ]
     },
     "execution_count": 121,
     "metadata": {},
     "output_type": "execute_result"
    },
    {
     "data": {
      "image/png": "[encoded data removed]",
      "text/plain": [
       "<Figure size 432x288 with 1 Axes>"
      ]
     },
     "metadata": {
      "needs_background": "light"
     },
     "output_type": "display_data"
    }
   ],
   "source": [
    "sns.stripplot(x=\"Won\", y=\"HeadToHeadDifference\", data=data)"
   ]
  },
  {
   "cell_type": "code",
   "execution_count": 122,
   "metadata": {
    "scrolled": false
   },
   "outputs": [
    {
     "data": {
      "text/plain": [
       "<matplotlib.axes._subplots.AxesSubplot at 0x38e3e080>"
      ]
     },
     "execution_count": 122,
     "metadata": {},
     "output_type": "execute_result"
    },
    {
     "data": {
      "image/png": "[encoded data removed]",
      "text/plain": [
       "<Figure size 432x288 with 1 Axes>"
      ]
     },
     "metadata": {
      "needs_background": "light"
     },
     "output_type": "display_data"
    }
   ],
   "source": [
    "sns.stripplot(x=\"Won\", y=\"DifferenceTournamentsInLastYear\", data=data)"
   ]
  },
  {
   "cell_type": "code",
   "execution_count": 124,
   "metadata": {},
   "outputs": [
    {
     "data": {
      "text/plain": [
       "<matplotlib.axes._subplots.AxesSubplot at 0x38e3eef0>"
      ]
     },
     "execution_count": 124,
     "metadata": {},
     "output_type": "execute_result"
    },
    {
     "data": {
      "image/png": "[encoded data removed]",
      "text/plain": [
       "<Figure size 432x288 with 1 Axes>"
      ]
     },
     "metadata": {
      "needs_background": "light"
     },
     "output_type": "display_data"
    }
   ],
   "source": [
    "sns.stripplot(x=\"Won\", y=\"DifferenceDurationOnCourtThisTournament\", data=data)"
   ]
  },
  {
   "cell_type": "code",
   "execution_count": 125,
   "metadata": {},
   "outputs": [
    {
     "data": {
      "text/plain": [
       "<matplotlib.axes._subplots.AxesSubplot at 0x3a877828>"
      ]
     },
     "execution_count": 125,
     "metadata": {},
     "output_type": "execute_result"
    },
    {
     "data": {
      "image/png": "[encoded data removed]",
      "text/plain": [
       "<Figure size 432x288 with 1 Axes>"
      ]
     },
     "metadata": {
      "needs_background": "light"
     },
     "output_type": "display_data"
    }
   ],
   "source": [
    "sns.stripplot(x=\"Won\", y=\"DifferenceMatchesInLastYear\", data=data)"
   ]
  },
  {
   "cell_type": "markdown",
   "metadata": {},
   "source": [
    "# 3. Result predictions"
   ]
  },
  {
   "cell_type": "code",
   "execution_count": 126,
   "metadata": {},
   "outputs": [
    {
     "data": {
      "text/html": [
       "<div>\n",
       "<style scoped>\n",
       "    .dataframe tbody tr th:only-of-type {\n",
       "        vertical-align: middle;\n",
       "    }\n",
       "\n",
       "    .dataframe tbody tr th {\n",
       "        vertical-align: top;\n",
       "    }\n",
       "\n",
       "    .dataframe thead th {\n",
       "        text-align: right;\n",
       "    }\n",
       "</style>\n",
       "<table border=\"1\" class=\"dataframe\">\n",
       "  <thead>\n",
       "    <tr style=\"text-align: right;\">\n",
       "      <th></th>\n",
       "      <th>RankDifference</th>\n",
       "      <th>HeadToHeadDifference</th>\n",
       "      <th>DifferenceTournamentsInLastYear</th>\n",
       "      <th>DifferenceDurationOnCourtThisTournament</th>\n",
       "    </tr>\n",
       "    <tr>\n",
       "      <th>MatchAthleteID</th>\n",
       "      <th></th>\n",
       "      <th></th>\n",
       "      <th></th>\n",
       "      <th></th>\n",
       "    </tr>\n",
       "  </thead>\n",
       "  <tbody>\n",
       "    <tr>\n",
       "      <th>128_P1</th>\n",
       "      <td>13</td>\n",
       "      <td>0</td>\n",
       "      <td>-16.0</td>\n",
       "      <td>0.0</td>\n",
       "    </tr>\n",
       "    <tr>\n",
       "      <th>142_P1</th>\n",
       "      <td>11</td>\n",
       "      <td>0</td>\n",
       "      <td>5.0</td>\n",
       "      <td>12.0</td>\n",
       "    </tr>\n",
       "    <tr>\n",
       "      <th>168_P1</th>\n",
       "      <td>11</td>\n",
       "      <td>0</td>\n",
       "      <td>1.0</td>\n",
       "      <td>-3.0</td>\n",
       "    </tr>\n",
       "    <tr>\n",
       "      <th>183_P1</th>\n",
       "      <td>110</td>\n",
       "      <td>0</td>\n",
       "      <td>-11.0</td>\n",
       "      <td>0.0</td>\n",
       "    </tr>\n",
       "    <tr>\n",
       "      <th>192_P1</th>\n",
       "      <td>588</td>\n",
       "      <td>0</td>\n",
       "      <td>-6.0</td>\n",
       "      <td>0.0</td>\n",
       "    </tr>\n",
       "  </tbody>\n",
       "</table>\n",
       "</div>"
      ],
      "text/plain": [
       "                RankDifference  HeadToHeadDifference  \\\n",
       "MatchAthleteID                                         \n",
       "128_P1                      13                     0   \n",
       "142_P1                      11                     0   \n",
       "168_P1                      11                     0   \n",
       "183_P1                     110                     0   \n",
       "192_P1                     588                     0   \n",
       "\n",
       "                DifferenceTournamentsInLastYear  \\\n",
       "MatchAthleteID                                    \n",
       "128_P1                                    -16.0   \n",
       "142_P1                                      5.0   \n",
       "168_P1                                      1.0   \n",
       "183_P1                                    -11.0   \n",
       "192_P1                                     -6.0   \n",
       "\n",
       "                DifferenceDurationOnCourtThisTournament  \n",
       "MatchAthleteID                                           \n",
       "128_P1                                              0.0  \n",
       "142_P1                                             12.0  \n",
       "168_P1                                             -3.0  \n",
       "183_P1                                              0.0  \n",
       "192_P1                                              0.0  "
      ]
     },
     "execution_count": 126,
     "metadata": {},
     "output_type": "execute_result"
    }
   ],
   "source": [
    "# create a Python list of feature names\n",
    "feature_cols = ['RankDifference', 'HeadToHeadDifference', 'DifferenceTournamentsInLastYear','DifferenceDurationOnCourtThisTournament']\n",
    "\n",
    "# use the list to select a subset of the original DataFrame\n",
    "X = data[feature_cols]\n",
    "\n",
    "# print the first 5 rows\n",
    "X.head()"
   ]
  },
  {
   "cell_type": "code",
   "execution_count": 127,
   "metadata": {},
   "outputs": [
    {
     "name": "stdout",
     "output_type": "stream",
     "text": [
      "<class 'pandas.core.frame.DataFrame'>\n",
      "(22186, 4)\n"
     ]
    }
   ],
   "source": [
    "# check the type and shape of X\n",
    "print(type(X))\n",
    "print(X.shape)"
   ]
  },
  {
   "cell_type": "code",
   "execution_count": 128,
   "metadata": {},
   "outputs": [
    {
     "data": {
      "text/plain": [
       "MatchAthleteID\n",
       "128_P1    0\n",
       "142_P1    0\n",
       "168_P1    0\n",
       "183_P1    0\n",
       "192_P1    0\n",
       "Name: Won, dtype: uint8"
      ]
     },
     "execution_count": 128,
     "metadata": {},
     "output_type": "execute_result"
    }
   ],
   "source": [
    "# select the response series from the DataFrame\n",
    "y = data.Won\n",
    "\n",
    "# print the first 5 values\n",
    "y.head()"
   ]
  },
  {
   "cell_type": "markdown",
   "metadata": {},
   "source": [
    "## 3-1. Logistic regression"
   ]
  },
  {
   "cell_type": "markdown",
   "metadata": {},
   "source": [
    "### Simple testing model"
   ]
  },
  {
   "cell_type": "code",
   "execution_count": 129,
   "metadata": {},
   "outputs": [],
   "source": [
    "from sklearn.model_selection import train_test_split\n",
    "X_train, X_test, y_train, y_test = train_test_split(X, y, random_state=1)"
   ]
  },
  {
   "cell_type": "code",
   "execution_count": 130,
   "metadata": {},
   "outputs": [
    {
     "name": "stdout",
     "output_type": "stream",
     "text": [
      "(16639, 4)\n",
      "(16639,)\n",
      "(5547, 4)\n",
      "(5547,)\n"
     ]
    }
   ],
   "source": [
    "# default split is 75% for training and 25% for testing\n",
    "print(X_train.shape)\n",
    "print(y_train.shape)\n",
    "print(X_test.shape)\n",
    "print(y_test.shape)"
   ]
  },
  {
   "cell_type": "code",
   "execution_count": 131,
   "metadata": {},
   "outputs": [
    {
     "name": "stdout",
     "output_type": "stream",
     "text": [
      "[0 1 0 ... 0 1 1]\n"
     ]
    }
   ],
   "source": [
    "# import the class\n",
    "from sklearn.linear_model import LogisticRegression\n",
    "\n",
    "# instantiate the model \n",
    "logreg_1 = LogisticRegression(solver='lbfgs')\n",
    "\n",
    "# fit the model with data\n",
    "logreg_1.fit(X_train, y_train)\n",
    "\n",
    "# predict the response for new observations\n",
    "y_pred = logreg_1.predict(X_test)\n",
    "print(y_pred)"
   ]
  },
  {
   "cell_type": "code",
   "execution_count": 132,
   "metadata": {},
   "outputs": [
    {
     "name": "stdout",
     "output_type": "stream",
     "text": [
      "0.6563908418965206\n"
     ]
    }
   ],
   "source": [
    "# evaluation\n",
    "from sklearn import metrics\n",
    "print(metrics.accuracy_score(y_test, y_pred))"
   ]
  },
  {
   "cell_type": "markdown",
   "metadata": {},
   "source": [
    "### Cross-fold validation"
   ]
  },
  {
   "cell_type": "code",
   "execution_count": 133,
   "metadata": {},
   "outputs": [],
   "source": [
    "# import cross_val_score\n",
    "from sklearn.model_selection import cross_val_score"
   ]
  },
  {
   "cell_type": "code",
   "execution_count": 134,
   "metadata": {},
   "outputs": [
    {
     "name": "stdout",
     "output_type": "stream",
     "text": [
      "[0.68828829 0.68603604 0.66306306 0.68034265 0.70108206 0.76825969\n",
      " 0.61316501 0.63300271 0.51532913 0.68440036]\n"
     ]
    }
   ],
   "source": [
    "# 10-fold cross-validation\n",
    "logreg = LogisticRegression(solver='lbfgs')\n",
    "scores_logreg = cross_val_score(logreg, X, y, cv=10, scoring='accuracy')\n",
    "print(scores_logreg)"
   ]
  },
  {
   "cell_type": "code",
   "execution_count": 135,
   "metadata": {},
   "outputs": [
    {
     "name": "stdout",
     "output_type": "stream",
     "text": [
      "0.6632968992436983\n"
     ]
    }
   ],
   "source": [
    "# use average accuracy as an estimate of out-of-sample accuracy\n",
    "print(scores_logreg.mean())"
   ]
  },
  {
   "cell_type": "markdown",
   "metadata": {},
   "source": [
    "### Parameter tuning"
   ]
  },
  {
   "cell_type": "markdown",
   "metadata": {},
   "source": [
    "#### Dropping single parameters"
   ]
  },
  {
   "cell_type": "code",
   "execution_count": 136,
   "metadata": {},
   "outputs": [
    {
     "name": "stdout",
     "output_type": "stream",
     "text": [
      "0.6306209229969374\n"
     ]
    }
   ],
   "source": [
    "# Drop RankDifference\n",
    "X_2 = data[['HeadToHeadDifference','DifferenceDurationOnCourtThisTournament','DifferenceTournamentsInLastYear']]\n",
    "scores_simple = cross_val_score(logreg, X_2, y, cv=10, scoring='accuracy')\n",
    "print(scores_simple.mean())"
   ]
  },
  {
   "cell_type": "code",
   "execution_count": 137,
   "metadata": {},
   "outputs": [
    {
     "name": "stdout",
     "output_type": "stream",
     "text": [
      "0.6380031519346218\n"
     ]
    }
   ],
   "source": [
    "# Drop HeadToHeadDifference\n",
    "X_2 = data[['RankDifference','DifferenceDurationOnCourtThisTournament','DifferenceTournamentsInLastYear']]\n",
    "scores_simple = cross_val_score(logreg, X_2, y, cv=10, scoring='accuracy')\n",
    "print(scores_simple.mean())"
   ]
  },
  {
   "cell_type": "code",
   "execution_count": 138,
   "metadata": {},
   "outputs": [
    {
     "name": "stdout",
     "output_type": "stream",
     "text": [
      "0.6640627056271782\n"
     ]
    }
   ],
   "source": [
    "# Drop DifferenceDurationOnCourtThisTournament\n",
    "X_2 = data[['RankDifference','HeadToHeadDifference','DifferenceTournamentsInLastYear']]\n",
    "scores_simple = cross_val_score(logreg, X_2, y, cv=10, scoring='accuracy')\n",
    "print(scores_simple.mean())"
   ]
  },
  {
   "cell_type": "code",
   "execution_count": 139,
   "metadata": {},
   "outputs": [
    {
     "name": "stdout",
     "output_type": "stream",
     "text": [
      "0.6808778706569509\n"
     ]
    }
   ],
   "source": [
    "# Drop DifferenceTournamentsInLastYear\n",
    "X_2 = data[['RankDifference','HeadToHeadDifference','DifferenceDurationOnCourtThisTournament']]\n",
    "scores_simple = cross_val_score(logreg, X_2, y, cv=10, scoring='accuracy')\n",
    "print(scores_simple.mean())"
   ]
  },
  {
   "cell_type": "markdown",
   "metadata": {},
   "source": [
    "#### Other combinations"
   ]
  },
  {
   "cell_type": "code",
   "execution_count": 140,
   "metadata": {},
   "outputs": [
    {
     "name": "stdout",
     "output_type": "stream",
     "text": [
      "0.6831316257646285\n"
     ]
    }
   ],
   "source": [
    "# Only consider RankDiff & HeadToHead\n",
    "X_2 = data[['RankDifference','HeadToHeadDifference']]\n",
    "scores_simple = cross_val_score(logreg, X_2, y, cv=10, scoring='accuracy')\n",
    "print(scores_simple.mean())"
   ]
  },
  {
   "cell_type": "code",
   "execution_count": 141,
   "metadata": {},
   "outputs": [
    {
     "name": "stdout",
     "output_type": "stream",
     "text": [
      "0.6848454902151927\n"
     ]
    }
   ],
   "source": [
    "# Only consider RankDiff & DifferenceDurationOnCourtThisTournament\n",
    "X_2 = data[['RankDifference','DifferenceDurationOnCourtThisTournament']]\n",
    "scores_simple = cross_val_score(logreg, X_2, y, cv=10, scoring='accuracy')\n",
    "print(scores_simple.mean())"
   ]
  },
  {
   "cell_type": "code",
   "execution_count": 142,
   "metadata": {},
   "outputs": [
    {
     "name": "stdout",
     "output_type": "stream",
     "text": [
      "0.6362894905726286\n"
     ]
    }
   ],
   "source": [
    "# Only consider RankDiff & DifferenceTournamentsInLastYear\n",
    "X_2 = data[['RankDifference','DifferenceTournamentsInLastYear']]\n",
    "scores_simple = cross_val_score(logreg, X_2, y, cv=10, scoring='accuracy')\n",
    "print(scores_simple.mean())"
   ]
  },
  {
   "cell_type": "code",
   "execution_count": 143,
   "metadata": {},
   "outputs": [
    {
     "name": "stdout",
     "output_type": "stream",
     "text": [
      "0.5429657024021316\n"
     ]
    }
   ],
   "source": [
    "# Drop DifferenceTournamentsInLastYear & RankDiff\n",
    "X_2 = data[['HeadToHeadDifference','DifferenceDurationOnCourtThisTournament']]\n",
    "scores_simple = cross_val_score(logreg, X_2, y, cv=10, scoring='accuracy')\n",
    "print(scores_simple.mean())"
   ]
  },
  {
   "cell_type": "markdown",
   "metadata": {},
   "source": [
    "## 3-2. K-Nearest neighbour"
   ]
  },
  {
   "cell_type": "code",
   "execution_count": 144,
   "metadata": {},
   "outputs": [],
   "source": [
    "from sklearn.neighbors import KNeighborsClassifier"
   ]
  },
  {
   "cell_type": "code",
   "execution_count": 145,
   "metadata": {},
   "outputs": [
    {
     "name": "stdout",
     "output_type": "stream",
     "text": [
      "[0.66441441 0.6472973  0.63288288 0.64517583 0.67132552 0.70198377\n",
      " 0.61136159 0.58476105 0.58070334 0.60640216]\n"
     ]
    }
   ],
   "source": [
    "# 10-fold cross-validation with K=5 for KNN (the n_neighbors parameter)\n",
    "knn = KNeighborsClassifier(n_neighbors=5)\n",
    "scores_knn = cross_val_score(knn, X, y, cv=10, scoring='accuracy')\n",
    "print(scores_knn)"
   ]
  },
  {
   "cell_type": "code",
   "execution_count": 146,
   "metadata": {
    "scrolled": true
   },
   "outputs": [
    {
     "name": "stdout",
     "output_type": "stream",
     "text": [
      "0.6346307849779447\n"
     ]
    }
   ],
   "source": [
    "print(scores_knn.mean())"
   ]
  },
  {
   "cell_type": "code",
   "execution_count": 156,
   "metadata": {},
   "outputs": [
    {
     "name": "stdout",
     "output_type": "stream",
     "text": [
      "[0.5913608558964737, 0.6768664652028042, 0.6845748543854946, 0.688046409800242, 0.6903454130415356, 0.6911565894117743, 0.6909760842898804, 0.6911115443667293, 0.6911563050877748, 0.6908859941997905]\n"
     ]
    }
   ],
   "source": [
    "# search for an optimal value of K for KNN\n",
    "k_range = list(range(1, 201,20))\n",
    "k_scores = []\n",
    "for k in k_range:\n",
    "    knn = KNeighborsClassifier(n_neighbors=k)\n",
    "    scores = cross_val_score(knn, X, y, cv=10, scoring='accuracy')\n",
    "    k_scores.append(scores.mean())\n",
    "print(k_scores)"
   ]
  },
  {
   "cell_type": "code",
   "execution_count": 148,
   "metadata": {},
   "outputs": [
    {
     "data": {
      "text/plain": [
       "Text(0, 0.5, 'Cross-Validated Accuracy')"
      ]
     },
     "execution_count": 148,
     "metadata": {},
     "output_type": "execute_result"
    },
    {
     "data": {
      "image/png": "[encoded data removed]",
      "text/plain": [
       "<Figure size 432x288 with 1 Axes>"
      ]
     },
     "metadata": {
      "needs_background": "light"
     },
     "output_type": "display_data"
    }
   ],
   "source": [
    "import matplotlib.pyplot as plt\n",
    "%matplotlib inline\n",
    "\n",
    "# plot the value of K for KNN (x-axis) versus the cross-validated accuracy (y-axis)\n",
    "plt.plot(k_range, k_scores)\n",
    "plt.xlabel('Value of K for KNN')\n",
    "plt.ylabel('Cross-Validated Accuracy')"
   ]
  },
  {
   "cell_type": "code",
   "execution_count": 157,
   "metadata": {},
   "outputs": [
    {
     "name": "stdout",
     "output_type": "stream",
     "text": [
      "[0.5913608558964737, 0.6911565894117743, 0.6910210480994972, 0.6898494301334698, 0.6924638705432213]\n"
     ]
    }
   ],
   "source": [
    "# search for an optimal value of K for KNN\n",
    "k_range = list(range(1, 501,100))\n",
    "k_scores = []\n",
    "for k in k_range:\n",
    "    knn = KNeighborsClassifier(n_neighbors=k)\n",
    "    scores = cross_val_score(knn, X, y, cv=10, scoring='accuracy')\n",
    "    k_scores.append(scores.mean())\n",
    "print(k_scores)"
   ]
  },
  {
   "cell_type": "code",
   "execution_count": 158,
   "metadata": {},
   "outputs": [
    {
     "data": {
      "text/plain": [
       "Text(0, 0.5, 'Cross-Validated Accuracy')"
      ]
     },
     "execution_count": 158,
     "metadata": {},
     "output_type": "execute_result"
    },
    {
     "data": {
      "image/png": "[encoded data removed]",
      "text/plain": [
       "<Figure size 432x288 with 1 Axes>"
      ]
     },
     "metadata": {
      "needs_background": "light"
     },
     "output_type": "display_data"
    }
   ],
   "source": [
    "import matplotlib.pyplot as plt\n",
    "%matplotlib inline\n",
    "\n",
    "# plot the value of K for KNN (x-axis) versus the cross-validated accuracy (y-axis)\n",
    "plt.plot(k_range, k_scores)\n",
    "plt.xlabel('Value of K for KNN')\n",
    "plt.ylabel('Cross-Validated Accuracy')"
   ]
  },
  {
   "cell_type": "code",
   "execution_count": 159,
   "metadata": {},
   "outputs": [
    {
     "name": "stdout",
     "output_type": "stream",
     "text": [
      "[1, 101, 201, 301, 401]\n"
     ]
    }
   ],
   "source": [
    "print(k_range)"
   ]
  },
  {
   "cell_type": "code",
   "execution_count": 161,
   "metadata": {},
   "outputs": [
    {
     "name": "stdout",
     "output_type": "stream",
     "text": [
      "Max predictive accuracy: 0.6924638705432213\n",
      "K-value: 401\n"
     ]
    }
   ],
   "source": [
    "print(\"Max predictive accuracy: \" + str(max(k_scores)))\n",
    "print(\"K-value: \" + str(k_scores.index(max(k_scores))*100+1))"
   ]
  },
  {
   "cell_type": "markdown",
   "metadata": {},
   "source": [
    "### Parameter tuning"
   ]
  },
  {
   "cell_type": "code",
   "execution_count": 162,
   "metadata": {},
   "outputs": [],
   "source": [
    "knn_2 = KNeighborsClassifier(n_neighbors=125)"
   ]
  },
  {
   "cell_type": "code",
   "execution_count": 163,
   "metadata": {},
   "outputs": [
    {
     "name": "stdout",
     "output_type": "stream",
     "text": [
      "0.5974802394820429\n"
     ]
    }
   ],
   "source": [
    "# Drop RankDifference\n",
    "X_2 = data[['HeadToHeadDifference','DifferenceDurationOnCourtThisTournament','DifferenceTournamentsInLastYear']]\n",
    "scores_simple = cross_val_score(knn_2, X_2, y, cv=10, scoring='accuracy')\n",
    "print(scores_simple.mean())"
   ]
  },
  {
   "cell_type": "code",
   "execution_count": 164,
   "metadata": {},
   "outputs": [
    {
     "name": "stdout",
     "output_type": "stream",
     "text": [
      "0.6923734961291318\n"
     ]
    }
   ],
   "source": [
    "# Drop HeadToHeadDifference\n",
    "X_2 = data[['RankDifference','DifferenceDurationOnCourtThisTournament','DifferenceTournamentsInLastYear']]\n",
    "scores_simple = cross_val_score(knn_2, X_2, y, cv=10, scoring='accuracy')\n",
    "print(scores_simple.mean())"
   ]
  },
  {
   "cell_type": "code",
   "execution_count": 165,
   "metadata": {},
   "outputs": [
    {
     "name": "stdout",
     "output_type": "stream",
     "text": [
      "0.6943122608632077\n"
     ]
    }
   ],
   "source": [
    "# Drop DifferenceDurationOnCourtThisTournament\n",
    "X_2 = data[['RankDifference','HeadToHeadDifference','DifferenceTournamentsInLastYear']]\n",
    "scores_simple = cross_val_score(knn_2, X_2, y, cv=10, scoring='accuracy')\n",
    "print(scores_simple.mean())"
   ]
  },
  {
   "cell_type": "code",
   "execution_count": 166,
   "metadata": {},
   "outputs": [
    {
     "name": "stdout",
     "output_type": "stream",
     "text": [
      "0.6874151292861843\n"
     ]
    }
   ],
   "source": [
    "# Drop DifferenceTournamentsInLastYear\n",
    "X_2 = data[['RankDifference','HeadToHeadDifference','DifferenceDurationOnCourtThisTournament']]\n",
    "scores_simple = cross_val_score(knn_2, X_2, y, cv=10, scoring='accuracy')\n",
    "print(scores_simple.mean())"
   ]
  }
 ],
 "metadata": {
  "kernelspec": {
   "display_name": "Python 3",
   "language": "python",
   "name": "python3"
  },
  "language_info": {
   "codemirror_mode": {
    "name": "ipython",
    "version": 3
   },
   "file_extension": ".py",
   "mimetype": "text/x-python",
   "name": "python",
   "nbconvert_exporter": "python",
   "pygments_lexer": "ipython3",
   "version": "3.7.3"
  }
 },
 "nbformat": 4,
 "nbformat_minor": 2
}
