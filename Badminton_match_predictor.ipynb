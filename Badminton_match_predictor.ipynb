{
 "cells": [
  {
   "cell_type": "code",
   "execution_count": 187,
   "metadata": {},
   "outputs": [
    {
     "data": {
      "text/plain": [
       "'C:\\\\Users\\\\hei79524\\\\Documents\\\\Coding Learning\\\\datasets'"
      ]
     },
     "execution_count": 187,
     "metadata": {},
     "output_type": "execute_result"
    }
   ],
   "source": [
    "import os\n",
    "os.getcwd()"
   ]
  },
  {
   "cell_type": "code",
   "execution_count": 188,
   "metadata": {},
   "outputs": [],
   "source": [
    "# import libraries\n",
    "import pandas as pd\n",
    "import numpy as np\n",
    "import matplotlib.pyplot as plt\n",
    "import seaborn as sns\n",
    "import seaborn as sns\n",
    "%matplotlib inline"
   ]
  },
  {
   "cell_type": "markdown",
   "metadata": {},
   "source": [
    "# 1. Import dataset"
   ]
  },
  {
   "cell_type": "code",
   "execution_count": 189,
   "metadata": {
    "scrolled": true
   },
   "outputs": [
    {
     "data": {
      "text/html": [
       "<div>\n",
       "<style scoped>\n",
       "    .dataframe tbody tr th:only-of-type {\n",
       "        vertical-align: middle;\n",
       "    }\n",
       "\n",
       "    .dataframe tbody tr th {\n",
       "        vertical-align: top;\n",
       "    }\n",
       "\n",
       "    .dataframe thead th {\n",
       "        text-align: right;\n",
       "    }\n",
       "</style>\n",
       "<table border=\"1\" class=\"dataframe\">\n",
       "  <thead>\n",
       "    <tr style=\"text-align: right;\">\n",
       "      <th></th>\n",
       "      <th>RankDifference</th>\n",
       "      <th>HeadToHeadDifference</th>\n",
       "      <th>DifferenceDurationToDateVsOpponent</th>\n",
       "      <th>DifferenceDurationInLastYear</th>\n",
       "      <th>DifferenceDurationOnCourtThisTournament</th>\n",
       "      <th>DifferenceMatchesInLastYear</th>\n",
       "      <th>DifferenceTournamentsInLastYear</th>\n",
       "      <th>MatchResult</th>\n",
       "    </tr>\n",
       "    <tr>\n",
       "      <th>MatchAthleteID</th>\n",
       "      <th></th>\n",
       "      <th></th>\n",
       "      <th></th>\n",
       "      <th></th>\n",
       "      <th></th>\n",
       "      <th></th>\n",
       "      <th></th>\n",
       "      <th></th>\n",
       "    </tr>\n",
       "  </thead>\n",
       "  <tbody>\n",
       "    <tr>\n",
       "      <th>128_P1</th>\n",
       "      <td>13</td>\n",
       "      <td>0</td>\n",
       "      <td>-3566.0</td>\n",
       "      <td>-1517.0</td>\n",
       "      <td>NaN</td>\n",
       "      <td>-33.0</td>\n",
       "      <td>-16.0</td>\n",
       "      <td>Lost</td>\n",
       "    </tr>\n",
       "    <tr>\n",
       "      <th>142_P1</th>\n",
       "      <td>11</td>\n",
       "      <td>0</td>\n",
       "      <td>-4695.0</td>\n",
       "      <td>-36.0</td>\n",
       "      <td>12.0</td>\n",
       "      <td>-4.0</td>\n",
       "      <td>5.0</td>\n",
       "      <td>Lost</td>\n",
       "    </tr>\n",
       "    <tr>\n",
       "      <th>168_P1</th>\n",
       "      <td>11</td>\n",
       "      <td>0</td>\n",
       "      <td>-7899.0</td>\n",
       "      <td>189.0</td>\n",
       "      <td>-3.0</td>\n",
       "      <td>3.0</td>\n",
       "      <td>1.0</td>\n",
       "      <td>Lost</td>\n",
       "    </tr>\n",
       "    <tr>\n",
       "      <th>183_P1</th>\n",
       "      <td>110</td>\n",
       "      <td>0</td>\n",
       "      <td>-6164.0</td>\n",
       "      <td>-1111.0</td>\n",
       "      <td>NaN</td>\n",
       "      <td>-20.0</td>\n",
       "      <td>-11.0</td>\n",
       "      <td>Lost</td>\n",
       "    </tr>\n",
       "    <tr>\n",
       "      <th>192_P1</th>\n",
       "      <td>588</td>\n",
       "      <td>0</td>\n",
       "      <td>-731.0</td>\n",
       "      <td>-312.0</td>\n",
       "      <td>NaN</td>\n",
       "      <td>-7.0</td>\n",
       "      <td>-6.0</td>\n",
       "      <td>Lost</td>\n",
       "    </tr>\n",
       "  </tbody>\n",
       "</table>\n",
       "</div>"
      ],
      "text/plain": [
       "                RankDifference  HeadToHeadDifference  \\\n",
       "MatchAthleteID                                         \n",
       "128_P1                      13                     0   \n",
       "142_P1                      11                     0   \n",
       "168_P1                      11                     0   \n",
       "183_P1                     110                     0   \n",
       "192_P1                     588                     0   \n",
       "\n",
       "                DifferenceDurationToDateVsOpponent  \\\n",
       "MatchAthleteID                                       \n",
       "128_P1                                     -3566.0   \n",
       "142_P1                                     -4695.0   \n",
       "168_P1                                     -7899.0   \n",
       "183_P1                                     -6164.0   \n",
       "192_P1                                      -731.0   \n",
       "\n",
       "                DifferenceDurationInLastYear  \\\n",
       "MatchAthleteID                                 \n",
       "128_P1                               -1517.0   \n",
       "142_P1                                 -36.0   \n",
       "168_P1                                 189.0   \n",
       "183_P1                               -1111.0   \n",
       "192_P1                                -312.0   \n",
       "\n",
       "                DifferenceDurationOnCourtThisTournament  \\\n",
       "MatchAthleteID                                            \n",
       "128_P1                                              NaN   \n",
       "142_P1                                             12.0   \n",
       "168_P1                                             -3.0   \n",
       "183_P1                                              NaN   \n",
       "192_P1                                              NaN   \n",
       "\n",
       "                DifferenceMatchesInLastYear  DifferenceTournamentsInLastYear  \\\n",
       "MatchAthleteID                                                                 \n",
       "128_P1                                -33.0                            -16.0   \n",
       "142_P1                                 -4.0                              5.0   \n",
       "168_P1                                  3.0                              1.0   \n",
       "183_P1                                -20.0                            -11.0   \n",
       "192_P1                                 -7.0                             -6.0   \n",
       "\n",
       "               MatchResult  \n",
       "MatchAthleteID              \n",
       "128_P1                Lost  \n",
       "142_P1                Lost  \n",
       "168_P1                Lost  \n",
       "183_P1                Lost  \n",
       "192_P1                Lost  "
      ]
     },
     "execution_count": 189,
     "metadata": {},
     "output_type": "execute_result"
    }
   ],
   "source": [
    "# read CSV file\n",
    "data = pd.read_csv('badminton_data_model_predictive_inputs.csv', index_col=0)\n",
    "\n",
    "# display the first 5 rows\n",
    "data.head()"
   ]
  },
  {
   "cell_type": "code",
   "execution_count": 190,
   "metadata": {},
   "outputs": [
    {
     "data": {
      "text/plain": [
       "Text(0.5, 1, 'After')"
      ]
     },
     "execution_count": 190,
     "metadata": {},
     "output_type": "execute_result"
    },
    {
     "data": {
      "image/png": "[encoded data removed]",
      "text/plain": [
       "<Figure size 1080x360 with 2 Axes>"
      ]
     },
     "metadata": {
      "needs_background": "light"
     },
     "output_type": "display_data"
    }
   ],
   "source": [
    "# identify any null data\n",
    "plt.figure(figsize=[15,5])\n",
    "\n",
    "plt.subplot(1,2,1)\n",
    "sns.heatmap(data.isnull(),yticklabels=False,cbar=False,cmap='viridis')\n",
    "plt.title('Before')\n",
    "\n",
    "# fill the null values in Differences to 0\n",
    "data = data.fillna(value = 0)\n",
    "\n",
    "plt.subplot(1,2,2)\n",
    "sns.heatmap(data.isnull(),yticklabels=False,cbar=False,cmap='viridis')\n",
    "plt.title('After')"
   ]
  },
  {
   "cell_type": "code",
   "execution_count": 191,
   "metadata": {},
   "outputs": [
    {
     "name": "stdout",
     "output_type": "stream",
     "text": [
      "(22186, 1)\n",
      "(22186, 8)\n"
     ]
    }
   ],
   "source": [
    "# Create dummies for categoric data\n",
    "results = pd.get_dummies(data['MatchResult'],drop_first = True)\n",
    "print(results.shape)\n",
    "print(data.shape)"
   ]
  },
  {
   "cell_type": "code",
   "execution_count": 192,
   "metadata": {},
   "outputs": [
    {
     "data": {
      "text/html": [
       "<div>\n",
       "<style scoped>\n",
       "    .dataframe tbody tr th:only-of-type {\n",
       "        vertical-align: middle;\n",
       "    }\n",
       "\n",
       "    .dataframe tbody tr th {\n",
       "        vertical-align: top;\n",
       "    }\n",
       "\n",
       "    .dataframe thead th {\n",
       "        text-align: right;\n",
       "    }\n",
       "</style>\n",
       "<table border=\"1\" class=\"dataframe\">\n",
       "  <thead>\n",
       "    <tr style=\"text-align: right;\">\n",
       "      <th></th>\n",
       "      <th>RankDifference</th>\n",
       "      <th>HeadToHeadDifference</th>\n",
       "      <th>DifferenceDurationToDateVsOpponent</th>\n",
       "      <th>DifferenceDurationInLastYear</th>\n",
       "      <th>DifferenceDurationOnCourtThisTournament</th>\n",
       "      <th>DifferenceMatchesInLastYear</th>\n",
       "      <th>DifferenceTournamentsInLastYear</th>\n",
       "      <th>Won</th>\n",
       "    </tr>\n",
       "    <tr>\n",
       "      <th>MatchAthleteID</th>\n",
       "      <th></th>\n",
       "      <th></th>\n",
       "      <th></th>\n",
       "      <th></th>\n",
       "      <th></th>\n",
       "      <th></th>\n",
       "      <th></th>\n",
       "      <th></th>\n",
       "    </tr>\n",
       "  </thead>\n",
       "  <tbody>\n",
       "    <tr>\n",
       "      <th>128_P1</th>\n",
       "      <td>13</td>\n",
       "      <td>0</td>\n",
       "      <td>-3566.0</td>\n",
       "      <td>-1517.0</td>\n",
       "      <td>0.0</td>\n",
       "      <td>-33.0</td>\n",
       "      <td>-16.0</td>\n",
       "      <td>0</td>\n",
       "    </tr>\n",
       "    <tr>\n",
       "      <th>142_P1</th>\n",
       "      <td>11</td>\n",
       "      <td>0</td>\n",
       "      <td>-4695.0</td>\n",
       "      <td>-36.0</td>\n",
       "      <td>12.0</td>\n",
       "      <td>-4.0</td>\n",
       "      <td>5.0</td>\n",
       "      <td>0</td>\n",
       "    </tr>\n",
       "    <tr>\n",
       "      <th>168_P1</th>\n",
       "      <td>11</td>\n",
       "      <td>0</td>\n",
       "      <td>-7899.0</td>\n",
       "      <td>189.0</td>\n",
       "      <td>-3.0</td>\n",
       "      <td>3.0</td>\n",
       "      <td>1.0</td>\n",
       "      <td>0</td>\n",
       "    </tr>\n",
       "    <tr>\n",
       "      <th>183_P1</th>\n",
       "      <td>110</td>\n",
       "      <td>0</td>\n",
       "      <td>-6164.0</td>\n",
       "      <td>-1111.0</td>\n",
       "      <td>0.0</td>\n",
       "      <td>-20.0</td>\n",
       "      <td>-11.0</td>\n",
       "      <td>0</td>\n",
       "    </tr>\n",
       "    <tr>\n",
       "      <th>192_P1</th>\n",
       "      <td>588</td>\n",
       "      <td>0</td>\n",
       "      <td>-731.0</td>\n",
       "      <td>-312.0</td>\n",
       "      <td>0.0</td>\n",
       "      <td>-7.0</td>\n",
       "      <td>-6.0</td>\n",
       "      <td>0</td>\n",
       "    </tr>\n",
       "  </tbody>\n",
       "</table>\n",
       "</div>"
      ],
      "text/plain": [
       "                RankDifference  HeadToHeadDifference  \\\n",
       "MatchAthleteID                                         \n",
       "128_P1                      13                     0   \n",
       "142_P1                      11                     0   \n",
       "168_P1                      11                     0   \n",
       "183_P1                     110                     0   \n",
       "192_P1                     588                     0   \n",
       "\n",
       "                DifferenceDurationToDateVsOpponent  \\\n",
       "MatchAthleteID                                       \n",
       "128_P1                                     -3566.0   \n",
       "142_P1                                     -4695.0   \n",
       "168_P1                                     -7899.0   \n",
       "183_P1                                     -6164.0   \n",
       "192_P1                                      -731.0   \n",
       "\n",
       "                DifferenceDurationInLastYear  \\\n",
       "MatchAthleteID                                 \n",
       "128_P1                               -1517.0   \n",
       "142_P1                                 -36.0   \n",
       "168_P1                                 189.0   \n",
       "183_P1                               -1111.0   \n",
       "192_P1                                -312.0   \n",
       "\n",
       "                DifferenceDurationOnCourtThisTournament  \\\n",
       "MatchAthleteID                                            \n",
       "128_P1                                              0.0   \n",
       "142_P1                                             12.0   \n",
       "168_P1                                             -3.0   \n",
       "183_P1                                              0.0   \n",
       "192_P1                                              0.0   \n",
       "\n",
       "                DifferenceMatchesInLastYear  DifferenceTournamentsInLastYear  \\\n",
       "MatchAthleteID                                                                 \n",
       "128_P1                                -33.0                            -16.0   \n",
       "142_P1                                 -4.0                              5.0   \n",
       "168_P1                                  3.0                              1.0   \n",
       "183_P1                                -20.0                            -11.0   \n",
       "192_P1                                 -7.0                             -6.0   \n",
       "\n",
       "                Won  \n",
       "MatchAthleteID       \n",
       "128_P1            0  \n",
       "142_P1            0  \n",
       "168_P1            0  \n",
       "183_P1            0  \n",
       "192_P1            0  "
      ]
     },
     "execution_count": 192,
     "metadata": {},
     "output_type": "execute_result"
    }
   ],
   "source": [
    "# Add dummy column to data and remove originals\n",
    "data = pd.concat([data,results],axis=1)\n",
    "data.drop('MatchResult',axis=1,inplace=True)\n",
    "data.head()"
   ]
  },
  {
   "cell_type": "markdown",
   "metadata": {},
   "source": [
    "# 2. Analyse data"
   ]
  },
  {
   "cell_type": "markdown",
   "metadata": {},
   "source": [
    "## Exploration"
   ]
  },
  {
   "cell_type": "code",
   "execution_count": 193,
   "metadata": {},
   "outputs": [
    {
     "data": {
      "image/png": "[encoded data removed]",
      "text/plain": [
       "<Figure size 1080x720 with 5 Axes>"
      ]
     },
     "metadata": {
      "needs_background": "light"
     },
     "output_type": "display_data"
    }
   ],
   "source": [
    "#Looking at spreads in data\n",
    "plt.figure(figsize=[15,10])\n",
    "plt.subplot(3,2,1)\n",
    "sns.boxplot(x=\"Won\", y=\"RankDifference\", data=data)\n",
    "plt.title('Rank Difference')\n",
    "\n",
    "plt.subplot(3,2,2)\n",
    "sns.boxplot(x=\"Won\", y=\"HeadToHeadDifference\", data=data.loc[data.HeadToHeadDifference!=0])\n",
    "plt.title('Head to head difference')\n",
    "\n",
    "plt.subplot(3,2,3)\n",
    "sns.boxplot(x=\"Won\", y=\"DifferenceTournamentsInLastYear\", data=data)\n",
    "plt.title('Difference in no. of tournaments in last year')\n",
    "\n",
    "plt.subplot(3,2,4)\n",
    "sns.boxplot(x=\"Won\", y=\"DifferenceDurationOnCourtThisTournament\", data=data.loc[data.DifferenceDurationOnCourtThisTournament!=0])\n",
    "plt.title('Difference in duration on court this tournament')\n",
    "\n",
    "plt.subplot(3,2,5)\n",
    "sns.boxplot(x=\"Won\", y=\"DifferenceMatchesInLastYear\", data=data)\n",
    "plt.title('Difference in no. of matches in last year')\n",
    "\n",
    "plt.tight_layout()"
   ]
  },
  {
   "cell_type": "markdown",
   "metadata": {},
   "source": [
    "## Average feature scores for match victories"
   ]
  },
  {
   "cell_type": "code",
   "execution_count": 194,
   "metadata": {},
   "outputs": [
    {
     "data": {
      "text/html": [
       "<div>\n",
       "<style scoped>\n",
       "    .dataframe tbody tr th:only-of-type {\n",
       "        vertical-align: middle;\n",
       "    }\n",
       "\n",
       "    .dataframe tbody tr th {\n",
       "        vertical-align: top;\n",
       "    }\n",
       "\n",
       "    .dataframe thead th {\n",
       "        text-align: right;\n",
       "    }\n",
       "</style>\n",
       "<table border=\"1\" class=\"dataframe\">\n",
       "  <thead>\n",
       "    <tr style=\"text-align: right;\">\n",
       "      <th></th>\n",
       "      <th>Mean</th>\n",
       "      <th>Median</th>\n",
       "    </tr>\n",
       "  </thead>\n",
       "  <tbody>\n",
       "    <tr>\n",
       "      <th>RankDifference</th>\n",
       "      <td>-73.346615</td>\n",
       "      <td>-19.0</td>\n",
       "    </tr>\n",
       "    <tr>\n",
       "      <th>HeadToHeadDifference</th>\n",
       "      <td>0.162535</td>\n",
       "      <td>0.0</td>\n",
       "    </tr>\n",
       "    <tr>\n",
       "      <th>DifferenceDurationToDateVsOpponent</th>\n",
       "      <td>917.252502</td>\n",
       "      <td>447.0</td>\n",
       "    </tr>\n",
       "    <tr>\n",
       "      <th>DifferenceDurationInLastYear</th>\n",
       "      <td>256.490670</td>\n",
       "      <td>186.0</td>\n",
       "    </tr>\n",
       "    <tr>\n",
       "      <th>DifferenceDurationOnCourtThisTournament</th>\n",
       "      <td>-2.940773</td>\n",
       "      <td>0.0</td>\n",
       "    </tr>\n",
       "    <tr>\n",
       "      <th>DifferenceMatchesInLastYear</th>\n",
       "      <td>5.421978</td>\n",
       "      <td>4.0</td>\n",
       "    </tr>\n",
       "    <tr>\n",
       "      <th>DifferenceTournamentsInLastYear</th>\n",
       "      <td>1.618408</td>\n",
       "      <td>1.0</td>\n",
       "    </tr>\n",
       "    <tr>\n",
       "      <th>Won</th>\n",
       "      <td>1.000000</td>\n",
       "      <td>1.0</td>\n",
       "    </tr>\n",
       "  </tbody>\n",
       "</table>\n",
       "</div>"
      ],
      "text/plain": [
       "                                               Mean  Median\n",
       "RankDifference                           -73.346615   -19.0\n",
       "HeadToHeadDifference                       0.162535     0.0\n",
       "DifferenceDurationToDateVsOpponent       917.252502   447.0\n",
       "DifferenceDurationInLastYear             256.490670   186.0\n",
       "DifferenceDurationOnCourtThisTournament   -2.940773     0.0\n",
       "DifferenceMatchesInLastYear                5.421978     4.0\n",
       "DifferenceTournamentsInLastYear            1.618408     1.0\n",
       "Won                                        1.000000     1.0"
      ]
     },
     "execution_count": 194,
     "metadata": {},
     "output_type": "execute_result"
    }
   ],
   "source": [
    "a = pd.concat([data.loc[data.Won==1].mean(),data.loc[data.Won==1].median()],axis=1)\n",
    "a.columns=['Mean','Median']\n",
    "a"
   ]
  },
  {
   "cell_type": "markdown",
   "metadata": {},
   "source": [
    "## Correlation between fields"
   ]
  },
  {
   "cell_type": "code",
   "execution_count": 195,
   "metadata": {},
   "outputs": [
    {
     "data": {
      "text/plain": [
       "<matplotlib.axes._subplots.AxesSubplot at 0x59eb6a20>"
      ]
     },
     "execution_count": 195,
     "metadata": {},
     "output_type": "execute_result"
    },
    {
     "data": {
      "image/png": "[encoded data removed]",
      "text/plain": [
       "<Figure size 1080x720 with 2 Axes>"
      ]
     },
     "metadata": {
      "needs_background": "light"
     },
     "output_type": "display_data"
    }
   ],
   "source": [
    "plt.figure(figsize=[15,10])\n",
    "sns.heatmap(data.corr(), vmin = -1, vmax=1, annot=True, cmap=\"coolwarm\")"
   ]
  },
  {
   "cell_type": "markdown",
   "metadata": {},
   "source": [
    "# 3. Result predictions"
   ]
  },
  {
   "cell_type": "code",
   "execution_count": 196,
   "metadata": {},
   "outputs": [
    {
     "data": {
      "text/html": [
       "<div>\n",
       "<style scoped>\n",
       "    .dataframe tbody tr th:only-of-type {\n",
       "        vertical-align: middle;\n",
       "    }\n",
       "\n",
       "    .dataframe tbody tr th {\n",
       "        vertical-align: top;\n",
       "    }\n",
       "\n",
       "    .dataframe thead th {\n",
       "        text-align: right;\n",
       "    }\n",
       "</style>\n",
       "<table border=\"1\" class=\"dataframe\">\n",
       "  <thead>\n",
       "    <tr style=\"text-align: right;\">\n",
       "      <th></th>\n",
       "      <th>RankDifference</th>\n",
       "      <th>HeadToHeadDifference</th>\n",
       "      <th>DifferenceTournamentsInLastYear</th>\n",
       "      <th>DifferenceDurationOnCourtThisTournament</th>\n",
       "    </tr>\n",
       "    <tr>\n",
       "      <th>MatchAthleteID</th>\n",
       "      <th></th>\n",
       "      <th></th>\n",
       "      <th></th>\n",
       "      <th></th>\n",
       "    </tr>\n",
       "  </thead>\n",
       "  <tbody>\n",
       "    <tr>\n",
       "      <th>128_P1</th>\n",
       "      <td>13</td>\n",
       "      <td>0</td>\n",
       "      <td>-16.0</td>\n",
       "      <td>0.0</td>\n",
       "    </tr>\n",
       "    <tr>\n",
       "      <th>142_P1</th>\n",
       "      <td>11</td>\n",
       "      <td>0</td>\n",
       "      <td>5.0</td>\n",
       "      <td>12.0</td>\n",
       "    </tr>\n",
       "    <tr>\n",
       "      <th>168_P1</th>\n",
       "      <td>11</td>\n",
       "      <td>0</td>\n",
       "      <td>1.0</td>\n",
       "      <td>-3.0</td>\n",
       "    </tr>\n",
       "    <tr>\n",
       "      <th>183_P1</th>\n",
       "      <td>110</td>\n",
       "      <td>0</td>\n",
       "      <td>-11.0</td>\n",
       "      <td>0.0</td>\n",
       "    </tr>\n",
       "    <tr>\n",
       "      <th>192_P1</th>\n",
       "      <td>588</td>\n",
       "      <td>0</td>\n",
       "      <td>-6.0</td>\n",
       "      <td>0.0</td>\n",
       "    </tr>\n",
       "  </tbody>\n",
       "</table>\n",
       "</div>"
      ],
      "text/plain": [
       "                RankDifference  HeadToHeadDifference  \\\n",
       "MatchAthleteID                                         \n",
       "128_P1                      13                     0   \n",
       "142_P1                      11                     0   \n",
       "168_P1                      11                     0   \n",
       "183_P1                     110                     0   \n",
       "192_P1                     588                     0   \n",
       "\n",
       "                DifferenceTournamentsInLastYear  \\\n",
       "MatchAthleteID                                    \n",
       "128_P1                                    -16.0   \n",
       "142_P1                                      5.0   \n",
       "168_P1                                      1.0   \n",
       "183_P1                                    -11.0   \n",
       "192_P1                                     -6.0   \n",
       "\n",
       "                DifferenceDurationOnCourtThisTournament  \n",
       "MatchAthleteID                                           \n",
       "128_P1                                              0.0  \n",
       "142_P1                                             12.0  \n",
       "168_P1                                             -3.0  \n",
       "183_P1                                              0.0  \n",
       "192_P1                                              0.0  "
      ]
     },
     "execution_count": 196,
     "metadata": {},
     "output_type": "execute_result"
    }
   ],
   "source": [
    "# create a Python list of feature names\n",
    "feature_cols = ['RankDifference', 'HeadToHeadDifference', 'DifferenceTournamentsInLastYear','DifferenceDurationOnCourtThisTournament']\n",
    "\n",
    "# use the list to select a subset of the original DataFrame\n",
    "X = data[feature_cols]\n",
    "\n",
    "# print the first 5 rows\n",
    "X.head()"
   ]
  },
  {
   "cell_type": "code",
   "execution_count": 197,
   "metadata": {},
   "outputs": [
    {
     "name": "stdout",
     "output_type": "stream",
     "text": [
      "<class 'pandas.core.frame.DataFrame'>\n",
      "(22186, 4)\n"
     ]
    }
   ],
   "source": [
    "# check the type and shape of X\n",
    "print(type(X))\n",
    "print(X.shape)"
   ]
  },
  {
   "cell_type": "code",
   "execution_count": 198,
   "metadata": {
    "scrolled": true
   },
   "outputs": [
    {
     "data": {
      "text/plain": [
       "MatchAthleteID\n",
       "128_P1    0\n",
       "142_P1    0\n",
       "168_P1    0\n",
       "183_P1    0\n",
       "192_P1    0\n",
       "Name: Won, dtype: uint8"
      ]
     },
     "execution_count": 198,
     "metadata": {},
     "output_type": "execute_result"
    }
   ],
   "source": [
    "# select the response series from the DataFrame\n",
    "y = data.Won\n",
    "\n",
    "# print the first 5 values\n",
    "y.head()"
   ]
  },
  {
   "cell_type": "code",
   "execution_count": 199,
   "metadata": {},
   "outputs": [
    {
     "name": "stdout",
     "output_type": "stream",
     "text": [
      "<class 'pandas.core.series.Series'>\n",
      "(22186,)\n"
     ]
    }
   ],
   "source": [
    "# check the type and shape of y\n",
    "print(type(y))\n",
    "print(y.shape)"
   ]
  },
  {
   "cell_type": "markdown",
   "metadata": {},
   "source": [
    "## 3-1. Logistic regression"
   ]
  },
  {
   "cell_type": "markdown",
   "metadata": {},
   "source": [
    "### 3-1-1. Simple testing model"
   ]
  },
  {
   "cell_type": "code",
   "execution_count": 200,
   "metadata": {},
   "outputs": [],
   "source": [
    "from sklearn.model_selection import train_test_split\n",
    "X_train, X_test, y_train, y_test = train_test_split(X, y, random_state=1)"
   ]
  },
  {
   "cell_type": "code",
   "execution_count": 201,
   "metadata": {},
   "outputs": [
    {
     "name": "stdout",
     "output_type": "stream",
     "text": [
      "(16639, 4)\n",
      "(16639,)\n",
      "(5547, 4)\n",
      "(5547,)\n"
     ]
    }
   ],
   "source": [
    "# default split is 75% for training and 25% for testing\n",
    "print(X_train.shape)\n",
    "print(y_train.shape)\n",
    "print(X_test.shape)\n",
    "print(y_test.shape)"
   ]
  },
  {
   "cell_type": "code",
   "execution_count": 202,
   "metadata": {},
   "outputs": [
    {
     "name": "stdout",
     "output_type": "stream",
     "text": [
      "[0 1 0 ... 0 1 1]\n"
     ]
    }
   ],
   "source": [
    "# import the class\n",
    "from sklearn.linear_model import LogisticRegression\n",
    "\n",
    "# instantiate the model \n",
    "logreg_1 = LogisticRegression(solver='lbfgs')\n",
    "\n",
    "# fit the model with data\n",
    "logreg_1.fit(X_train, y_train)\n",
    "\n",
    "# predict the response for new observations\n",
    "y_pred = logreg_1.predict(X_test)\n",
    "print(y_pred)"
   ]
  },
  {
   "cell_type": "code",
   "execution_count": 203,
   "metadata": {},
   "outputs": [
    {
     "name": "stdout",
     "output_type": "stream",
     "text": [
      "0.6563908418965206\n"
     ]
    }
   ],
   "source": [
    "# evaluation\n",
    "from sklearn import metrics\n",
    "print(metrics.accuracy_score(y_test, y_pred))"
   ]
  },
  {
   "cell_type": "markdown",
   "metadata": {},
   "source": [
    "### 3-1-2. Cross-fold validation"
   ]
  },
  {
   "cell_type": "code",
   "execution_count": 204,
   "metadata": {},
   "outputs": [],
   "source": [
    "# import cross_val_score\n",
    "from sklearn.model_selection import cross_val_score"
   ]
  },
  {
   "cell_type": "code",
   "execution_count": 205,
   "metadata": {},
   "outputs": [
    {
     "name": "stdout",
     "output_type": "stream",
     "text": [
      "[0.68828829 0.68603604 0.66306306 0.68034265 0.70108206 0.76825969\n",
      " 0.61316501 0.63300271 0.51532913 0.68440036]\n"
     ]
    }
   ],
   "source": [
    "# 10-fold cross-validation\n",
    "logreg = LogisticRegression(solver='lbfgs')\n",
    "scores_logreg = cross_val_score(logreg, X, y, cv=10, scoring='accuracy')\n",
    "print(scores_logreg)"
   ]
  },
  {
   "cell_type": "code",
   "execution_count": 206,
   "metadata": {},
   "outputs": [
    {
     "name": "stdout",
     "output_type": "stream",
     "text": [
      "0.6632968992436983\n"
     ]
    }
   ],
   "source": [
    "# use average accuracy as an estimate of out-of-sample accuracy\n",
    "print(scores_logreg.mean())"
   ]
  },
  {
   "cell_type": "markdown",
   "metadata": {},
   "source": [
    "### 3-1-3. Parameter tuning"
   ]
  },
  {
   "cell_type": "markdown",
   "metadata": {},
   "source": [
    "#### Dropping single parameters"
   ]
  },
  {
   "cell_type": "code",
   "execution_count": 207,
   "metadata": {},
   "outputs": [
    {
     "name": "stdout",
     "output_type": "stream",
     "text": [
      "Dropping RankDifference - Accuracy: 0.631 (+/- 0.102)\n",
      "Dropping HeadToHeadDifference - Accuracy: 0.638 (+/- 0.175)\n",
      "Dropping DifferenceDurationOnCourtThisTournament - Accuracy: 0.664 (+/- 0.127)\n",
      "Dropping DifferenceTournamentsInLastYear - Accuracy: 0.681 (+/- 0.140)\n"
     ]
    }
   ],
   "source": [
    "#Dropping individual features\n",
    "testing_list = ['RankDifference','HeadToHeadDifference','DifferenceDurationOnCourtThisTournament','DifferenceTournamentsInLastYear']\n",
    "\n",
    "X_temp = X\n",
    "for col in testing_list:\n",
    "    X_temp= X.drop(col,axis=1)\n",
    "    if len(X_temp.columns)>0:\n",
    "        scores_logreg_temp = cross_val_score(logreg, X_temp, y, cv=10, scoring='accuracy')\n",
    "        print(\"Dropping %s - Accuracy: %0.3f (+/- %0.3f)\" % (col, scores_logreg_temp.mean(), scores_logreg_temp.std() * 2))"
   ]
  },
  {
   "cell_type": "markdown",
   "metadata": {},
   "source": [
    "#### Other combinations"
   ]
  },
  {
   "cell_type": "code",
   "execution_count": 208,
   "metadata": {},
   "outputs": [
    {
     "name": "stdout",
     "output_type": "stream",
     "text": [
      "Complete\n"
     ]
    }
   ],
   "source": [
    "#Exhausting combinations of dropping features to check nothing is missed\n",
    "testing_list = ['RankDifference','HeadToHeadDifference','DifferenceDurationOnCourtThisTournament','DifferenceTournamentsInLastYear']\n",
    "scores_list = []\n",
    "sd_list =[]\n",
    "accomp_features_list = []\n",
    "\n",
    "X_temp = X\n",
    "for col in testing_list:\n",
    "    X_temp= X.drop(col,axis=1)\n",
    "    scores_logreg_temp = cross_val_score(logreg, X_temp, y, cv=10, scoring='accuracy')\n",
    "    scores_list.append(scores_logreg_temp.mean())\n",
    "    sd_list.append(scores_logreg_temp.std())\n",
    "    accomp_features_list.append(col)\n",
    "    #print(\"Dropping %s - Accuracy: %0.3f (+/- %0.3f)\" % (col, scores_logreg_temp.mean(), scores_logreg_temp.std() * 2))\n",
    "    for col_2 in testing_list:\n",
    "        X_temp_2 = X_temp\n",
    "        if col != col_2:\n",
    "            X_temp_2 = X_temp.drop(col_2,axis=1)\n",
    "        if len(X_temp_2.columns)>0:\n",
    "            scores_logreg_temp = cross_val_score(logreg, X_temp_2, y, cv=10, scoring='accuracy')\n",
    "            scores_list.append(scores_logreg_temp.mean())\n",
    "            sd_list.append(scores_logreg_temp.std())\n",
    "            accomp_features_list.append([col,col_2])\n",
    "            #print(\"Dropping %s - Accuracy: %0.3f (+/- %0.3f)\" % (col, scores_logreg_temp.mean(), scores_logreg_temp.std() * 2))\n",
    "            \n",
    "print(\"Complete\")"
   ]
  },
  {
   "cell_type": "code",
   "execution_count": 209,
   "metadata": {
    "scrolled": true
   },
   "outputs": [
    {
     "data": {
      "text/html": [
       "<div>\n",
       "<style scoped>\n",
       "    .dataframe tbody tr th:only-of-type {\n",
       "        vertical-align: middle;\n",
       "    }\n",
       "\n",
       "    .dataframe tbody tr th {\n",
       "        vertical-align: top;\n",
       "    }\n",
       "\n",
       "    .dataframe thead th {\n",
       "        text-align: right;\n",
       "    }\n",
       "</style>\n",
       "<table border=\"1\" class=\"dataframe\">\n",
       "  <thead>\n",
       "    <tr style=\"text-align: right;\">\n",
       "      <th></th>\n",
       "      <th>FeaturesDropped</th>\n",
       "      <th>PredictionAccuracy</th>\n",
       "      <th>StandardDeviation</th>\n",
       "    </tr>\n",
       "  </thead>\n",
       "  <tbody>\n",
       "    <tr>\n",
       "      <th>0</th>\n",
       "      <td>RankDifference</td>\n",
       "      <td>0.630621</td>\n",
       "      <td>0.050970</td>\n",
       "    </tr>\n",
       "    <tr>\n",
       "      <th>1</th>\n",
       "      <td>[RankDifference, RankDifference]</td>\n",
       "      <td>0.630621</td>\n",
       "      <td>0.050970</td>\n",
       "    </tr>\n",
       "    <tr>\n",
       "      <th>2</th>\n",
       "      <td>[RankDifference, HeadToHeadDifference]</td>\n",
       "      <td>0.601992</td>\n",
       "      <td>0.076062</td>\n",
       "    </tr>\n",
       "    <tr>\n",
       "      <th>3</th>\n",
       "      <td>[RankDifference, DifferenceDurationOnCourtThis...</td>\n",
       "      <td>0.629449</td>\n",
       "      <td>0.050815</td>\n",
       "    </tr>\n",
       "    <tr>\n",
       "      <th>4</th>\n",
       "      <td>[RankDifference, DifferenceTournamentsInLastYear]</td>\n",
       "      <td>0.542966</td>\n",
       "      <td>0.073278</td>\n",
       "    </tr>\n",
       "  </tbody>\n",
       "</table>\n",
       "</div>"
      ],
      "text/plain": [
       "                                     FeaturesDropped  PredictionAccuracy  \\\n",
       "0                                     RankDifference            0.630621   \n",
       "1                   [RankDifference, RankDifference]            0.630621   \n",
       "2             [RankDifference, HeadToHeadDifference]            0.601992   \n",
       "3  [RankDifference, DifferenceDurationOnCourtThis...            0.629449   \n",
       "4  [RankDifference, DifferenceTournamentsInLastYear]            0.542966   \n",
       "\n",
       "   StandardDeviation  \n",
       "0           0.050970  \n",
       "1           0.050970  \n",
       "2           0.076062  \n",
       "3           0.050815  \n",
       "4           0.073278  "
      ]
     },
     "execution_count": 209,
     "metadata": {},
     "output_type": "execute_result"
    }
   ],
   "source": [
    "feature_testing = pd.concat([pd.Series(accomp_features_list),pd.Series(scores_list),pd.Series(sd_list)],axis=1)\n",
    "feature_testing.columns = (['FeaturesDropped','PredictionAccuracy','StandardDeviation'])\n",
    "feature_testing.head(5)"
   ]
  },
  {
   "cell_type": "code",
   "execution_count": 210,
   "metadata": {},
   "outputs": [
    {
     "name": "stdout",
     "output_type": "stream",
     "text": [
      "Max accuracy:\n",
      "FeaturesDropped       [HeadToHeadDifference, DifferenceTournamentsIn...\n",
      "PredictionAccuracy                                             0.684845\n",
      "StandardDeviation                                             0.0499578\n",
      "Name: 9, dtype: object\n"
     ]
    },
    {
     "data": {
      "image/png": "[encoded data removed]",
      "text/plain": [
       "<Figure size 432x288 with 2 Axes>"
      ]
     },
     "metadata": {
      "needs_background": "light"
     },
     "output_type": "display_data"
    }
   ],
   "source": [
    "print('Max accuracy:')\n",
    "print(feature_testing.iloc[feature_testing['PredictionAccuracy'].idxmax()])\n",
    "fig, ax1 = plt.subplots()\n",
    "\n",
    "color = 'tab:red'\n",
    "ax1.set_xlabel('Index')\n",
    "ax1.set_ylabel('Accuracy', color=color)\n",
    "ax1.plot(feature_testing.index, feature_testing.PredictionAccuracy, color=color, alpha=0.5)\n",
    "ax1.tick_params(axis='y', labelcolor=color)\n",
    "ax1.set_ylim([0.5,0.9])\n",
    "\n",
    "ax2 = ax1.twinx()  # instantiate a second axes that shares the same x-axis\n",
    "\n",
    "color = 'tab:blue'\n",
    "ax2.set_ylabel('Standard Deviation', color=color)  # we already handled the x-label with ax1\n",
    "ax2.plot(feature_testing.index, feature_testing.StandardDeviation, color=color, ls='--', alpha = 0.5)\n",
    "ax2.tick_params(axis='y', labelcolor=color)\n",
    "ax2.set_ylim([0,0.1])\n",
    "\n",
    "#Improving layout\n",
    "plt.xticks(feature_testing.index)\n",
    "fig.tight_layout()"
   ]
  },
  {
   "cell_type": "markdown",
   "metadata": {},
   "source": [
    "## 3-2. K-Nearest neighbour"
   ]
  },
  {
   "cell_type": "markdown",
   "metadata": {},
   "source": [
    "### 3-2-1. Scaling parameters"
   ]
  },
  {
   "cell_type": "code",
   "execution_count": 211,
   "metadata": {},
   "outputs": [],
   "source": [
    "from sklearn.preprocessing import StandardScaler"
   ]
  },
  {
   "cell_type": "code",
   "execution_count": 212,
   "metadata": {},
   "outputs": [],
   "source": [
    "# Instantiate\n",
    "scaler = StandardScaler()"
   ]
  },
  {
   "cell_type": "code",
   "execution_count": 213,
   "metadata": {},
   "outputs": [
    {
     "data": {
      "text/plain": [
       "StandardScaler(copy=True, with_mean=True, with_std=True)"
      ]
     },
     "execution_count": 213,
     "metadata": {},
     "output_type": "execute_result"
    }
   ],
   "source": [
    "# Computes mean and standard deviation required for later scaling\n",
    "scaler.fit(X)"
   ]
  },
  {
   "cell_type": "code",
   "execution_count": 214,
   "metadata": {},
   "outputs": [
    {
     "data": {
      "text/plain": [
       "array([[ 0.05439809,  0.        , -2.81524919,  0.        ],\n",
       "       [ 0.04602915,  0.        ,  0.87976537,  0.40835107],\n",
       "       [ 0.04602915,  0.        ,  0.17595307, -0.10208777],\n",
       "       ...,\n",
       "       [ 0.17993215, -0.91481787,  0.17595307,  0.        ],\n",
       "       [ 0.10461171, -0.91481787,  0.35190615,  0.        ],\n",
       "       [ 0.10042725, -0.91481787,  0.        ,  0.        ]])"
      ]
     },
     "execution_count": 214,
     "metadata": {},
     "output_type": "execute_result"
    }
   ],
   "source": [
    "# Scales X\n",
    "scaled_X_array = scaler.transform(X)\n",
    "scaled_X_array"
   ]
  },
  {
   "cell_type": "code",
   "execution_count": 215,
   "metadata": {},
   "outputs": [
    {
     "data": {
      "text/html": [
       "<div>\n",
       "<style scoped>\n",
       "    .dataframe tbody tr th:only-of-type {\n",
       "        vertical-align: middle;\n",
       "    }\n",
       "\n",
       "    .dataframe tbody tr th {\n",
       "        vertical-align: top;\n",
       "    }\n",
       "\n",
       "    .dataframe thead th {\n",
       "        text-align: right;\n",
       "    }\n",
       "</style>\n",
       "<table border=\"1\" class=\"dataframe\">\n",
       "  <thead>\n",
       "    <tr style=\"text-align: right;\">\n",
       "      <th></th>\n",
       "      <th>RankDifference</th>\n",
       "      <th>HeadToHeadDifference</th>\n",
       "      <th>DifferenceTournamentsInLastYear</th>\n",
       "      <th>DifferenceDurationOnCourtThisTournament</th>\n",
       "    </tr>\n",
       "  </thead>\n",
       "  <tbody>\n",
       "    <tr>\n",
       "      <th>0</th>\n",
       "      <td>0.054398</td>\n",
       "      <td>0.0</td>\n",
       "      <td>-2.815249</td>\n",
       "      <td>0.000000</td>\n",
       "    </tr>\n",
       "    <tr>\n",
       "      <th>1</th>\n",
       "      <td>0.046029</td>\n",
       "      <td>0.0</td>\n",
       "      <td>0.879765</td>\n",
       "      <td>0.408351</td>\n",
       "    </tr>\n",
       "    <tr>\n",
       "      <th>2</th>\n",
       "      <td>0.046029</td>\n",
       "      <td>0.0</td>\n",
       "      <td>0.175953</td>\n",
       "      <td>-0.102088</td>\n",
       "    </tr>\n",
       "    <tr>\n",
       "      <th>3</th>\n",
       "      <td>0.460292</td>\n",
       "      <td>0.0</td>\n",
       "      <td>-1.935484</td>\n",
       "      <td>0.000000</td>\n",
       "    </tr>\n",
       "    <tr>\n",
       "      <th>4</th>\n",
       "      <td>2.460468</td>\n",
       "      <td>0.0</td>\n",
       "      <td>-1.055718</td>\n",
       "      <td>0.000000</td>\n",
       "    </tr>\n",
       "  </tbody>\n",
       "</table>\n",
       "</div>"
      ],
      "text/plain": [
       "   RankDifference  HeadToHeadDifference  DifferenceTournamentsInLastYear  \\\n",
       "0        0.054398                   0.0                        -2.815249   \n",
       "1        0.046029                   0.0                         0.879765   \n",
       "2        0.046029                   0.0                         0.175953   \n",
       "3        0.460292                   0.0                        -1.935484   \n",
       "4        2.460468                   0.0                        -1.055718   \n",
       "\n",
       "   DifferenceDurationOnCourtThisTournament  \n",
       "0                                 0.000000  \n",
       "1                                 0.408351  \n",
       "2                                -0.102088  \n",
       "3                                 0.000000  \n",
       "4                                 0.000000  "
      ]
     },
     "execution_count": 215,
     "metadata": {},
     "output_type": "execute_result"
    }
   ],
   "source": [
    "# Put into a pandas df\n",
    "scaled_X = pd.DataFrame(scaled_X_array,columns=X.columns)\n",
    "scaled_X.head(5)"
   ]
  },
  {
   "cell_type": "code",
   "execution_count": 216,
   "metadata": {},
   "outputs": [],
   "source": [
    "from sklearn.neighbors import KNeighborsClassifier"
   ]
  },
  {
   "cell_type": "code",
   "execution_count": 217,
   "metadata": {},
   "outputs": [
    {
     "name": "stdout",
     "output_type": "stream",
     "text": [
      "[0.66981982 0.64594595 0.63063063 0.6465284  0.65193868 0.68890893\n",
      " 0.60324617 0.60054103 0.49594229 0.56627592]\n",
      "0.619977782110334\n"
     ]
    }
   ],
   "source": [
    "# 10-fold cross-validation with K=5 for KNN (the n_neighbors parameter)\n",
    "knn = KNeighborsClassifier(n_neighbors=5)\n",
    "scores_knn = cross_val_score(knn, scaled_X, y, cv=10, scoring='accuracy')\n",
    "print(scores_knn)\n",
    "print(scores_knn.mean())"
   ]
  },
  {
   "cell_type": "code",
   "execution_count": 218,
   "metadata": {},
   "outputs": [
    {
     "name": "stdout",
     "output_type": "stream",
     "text": [
      "[0.5841933321960373, 0.6428741500743305, 0.6481476697617365, 0.6505809551661671, 0.6507163340075874, 0.6497234746017433, 0.64692893524724, 0.6470641516178035, 0.6464781598550761, 0.6481463699948822]\n"
     ]
    }
   ],
   "source": [
    "# search for an optimal value of K for KNN\n",
    "k_range = list(range(1, 201,20))\n",
    "k_scores = []\n",
    "for k in k_range:\n",
    "    knn = KNeighborsClassifier(n_neighbors=k)\n",
    "    scores = cross_val_score(knn, scaled_X, y, cv=10, scoring='accuracy')\n",
    "    k_scores.append(scores.mean())\n",
    "print(k_scores)"
   ]
  },
  {
   "cell_type": "code",
   "execution_count": 219,
   "metadata": {
    "scrolled": true
   },
   "outputs": [
    {
     "data": {
      "text/plain": [
       "Text(0, 0.5, 'Cross-Validated Accuracy')"
      ]
     },
     "execution_count": 219,
     "metadata": {},
     "output_type": "execute_result"
    },
    {
     "data": {
      "image/png": "[encoded data removed]",
      "text/plain": [
       "<Figure size 432x288 with 1 Axes>"
      ]
     },
     "metadata": {
      "needs_background": "light"
     },
     "output_type": "display_data"
    }
   ],
   "source": [
    "# plot the value of K for KNN (x-axis) versus the cross-validated accuracy (y-axis)\n",
    "plt.plot(k_range, k_scores)\n",
    "plt.xlabel('Value of K for KNN')\n",
    "plt.ylabel('Cross-Validated Accuracy')"
   ]
  },
  {
   "cell_type": "markdown",
   "metadata": {},
   "source": [
    "Looks like K = ~100 is an appropriate value to use for decent performance"
   ]
  },
  {
   "cell_type": "code",
   "execution_count": 220,
   "metadata": {},
   "outputs": [
    {
     "name": "stdout",
     "output_type": "stream",
     "text": [
      "[0.5841933321960373, 0.6497234746017433, 0.646162885157475, 0.6483284998253438, 0.6546841566544002]\n"
     ]
    }
   ],
   "source": [
    "# search for an optimal value of K for KNN\n",
    "k_range = list(range(1, 501,100))\n",
    "k_scores = []\n",
    "for k in k_range:\n",
    "    knn = KNeighborsClassifier(n_neighbors=k)\n",
    "    scores = cross_val_score(knn, scaled_X, y, cv=10, scoring='accuracy')\n",
    "    k_scores.append(scores.mean())\n",
    "print(k_scores)"
   ]
  },
  {
   "cell_type": "code",
   "execution_count": 221,
   "metadata": {},
   "outputs": [
    {
     "data": {
      "text/plain": [
       "Text(0, 0.5, 'Cross-Validated Accuracy')"
      ]
     },
     "execution_count": 221,
     "metadata": {},
     "output_type": "execute_result"
    },
    {
     "data": {
      "image/png": "[encoded data removed]",
      "text/plain": [
       "<Figure size 432x288 with 1 Axes>"
      ]
     },
     "metadata": {
      "needs_background": "light"
     },
     "output_type": "display_data"
    }
   ],
   "source": [
    "# plot the value of K for KNN (x-axis) versus the cross-validated accuracy (y-axis)\n",
    "plt.plot(k_range, k_scores)\n",
    "plt.xlabel('Value of K for KNN')\n",
    "plt.ylabel('Cross-Validated Accuracy')"
   ]
  },
  {
   "cell_type": "code",
   "execution_count": 222,
   "metadata": {},
   "outputs": [
    {
     "name": "stdout",
     "output_type": "stream",
     "text": [
      "[1, 101, 201, 301, 401]\n"
     ]
    }
   ],
   "source": [
    "print(k_range)"
   ]
  },
  {
   "cell_type": "code",
   "execution_count": 223,
   "metadata": {},
   "outputs": [
    {
     "name": "stdout",
     "output_type": "stream",
     "text": [
      "Max predictive accuracy: 0.6546841566544002\n",
      "K-value: 401\n"
     ]
    }
   ],
   "source": [
    "print(\"Max predictive accuracy: \" + str(max(k_scores)))\n",
    "print(\"K-value: \" + str(k_scores.index(max(k_scores))*100+1))"
   ]
  },
  {
   "cell_type": "markdown",
   "metadata": {},
   "source": [
    "### Parameter tuning"
   ]
  },
  {
   "cell_type": "code",
   "execution_count": 224,
   "metadata": {},
   "outputs": [],
   "source": [
    "# Going to use 100 as a large K takes a long time to run and doesn't appear to be much benefit\n",
    "knn_2 = KNeighborsClassifier(n_neighbors=100)"
   ]
  },
  {
   "cell_type": "markdown",
   "metadata": {},
   "source": [
    "#### Single parameters"
   ]
  },
  {
   "cell_type": "code",
   "execution_count": 225,
   "metadata": {},
   "outputs": [
    {
     "name": "stdout",
     "output_type": "stream",
     "text": [
      "Dropping RankDifference - Accuracy: 0.614 (+/- 0.184)\n",
      "Dropping HeadToHeadDifference - Accuracy: 0.676 (+/- 0.105)\n",
      "Dropping DifferenceDurationOnCourtThisTournament - Accuracy: 0.666 (+/- 0.156)\n",
      "Dropping DifferenceTournamentsInLastYear - Accuracy: 0.668 (+/- 0.131)\n"
     ]
    }
   ],
   "source": [
    "#Dropping individual features\n",
    "testing_list = ['RankDifference','HeadToHeadDifference','DifferenceDurationOnCourtThisTournament','DifferenceTournamentsInLastYear']\n",
    "\n",
    "X_temp = scaled_X\n",
    "for col in testing_list:\n",
    "    X_temp= scaled_X.drop(col,axis=1)\n",
    "    if len(X_temp.columns)>0:\n",
    "        scores_knn_temp = cross_val_score(knn_2, X_temp, y, cv=10, scoring='accuracy')\n",
    "        print(\"Dropping %s - Accuracy: %0.3f (+/- %0.3f)\" % (col, scores_knn_temp.mean(), scores_knn_temp.std() * 2))"
   ]
  },
  {
   "cell_type": "markdown",
   "metadata": {},
   "source": [
    "#### Multiple parameters"
   ]
  },
  {
   "cell_type": "code",
   "execution_count": 226,
   "metadata": {},
   "outputs": [
    {
     "name": "stdout",
     "output_type": "stream",
     "text": [
      "Complete\n"
     ]
    }
   ],
   "source": [
    "#Exhausting combinations of dropping features to check nothing is missed\n",
    "testing_list = ['RankDifference','HeadToHeadDifference','DifferenceDurationOnCourtThisTournament','DifferenceTournamentsInLastYear']\n",
    "scores_list = []\n",
    "sd_list =[]\n",
    "accomp_features_list = []\n",
    "\n",
    "X_temp = scaled_X\n",
    "for col in testing_list:\n",
    "    X_temp= scaled_X.drop(col,axis=1)\n",
    "    scores_knn_temp = cross_val_score(knn_2, X_temp, y, cv=10, scoring='accuracy')\n",
    "    scores_list.append(scores_knn_temp.mean())\n",
    "    sd_list.append(scores_knn_temp.std())\n",
    "    accomp_features_list.append(col)\n",
    "    #print(\"Dropping %s - Accuracy: %0.3f (+/- %0.3f)\" % (col, scores_logreg_temp.mean(), scores_logreg_temp.std() * 2))\n",
    "    for col_2 in testing_list:\n",
    "        X_temp_2 = X_temp\n",
    "        if col != col_2:\n",
    "            X_temp_2 = X_temp.drop(col_2,axis=1)\n",
    "        if len(X_temp_2.columns)>0:\n",
    "            scores_knn_temp = cross_val_score(knn_2, X_temp_2, y, cv=10, scoring='accuracy')\n",
    "            scores_list.append(scores_knn_temp.mean())\n",
    "            sd_list.append(scores_knn_temp.std())\n",
    "            accomp_features_list.append([col,col_2])\n",
    "            #print(\"Dropping %s - Accuracy: %0.3f (+/- %0.3f)\" % (col, scores_logreg_temp.mean(), scores_logreg_temp.std() * 2))\n",
    "            \n",
    "print(\"Complete\")"
   ]
  },
  {
   "cell_type": "code",
   "execution_count": 227,
   "metadata": {},
   "outputs": [
    {
     "data": {
      "text/html": [
       "<div>\n",
       "<style scoped>\n",
       "    .dataframe tbody tr th:only-of-type {\n",
       "        vertical-align: middle;\n",
       "    }\n",
       "\n",
       "    .dataframe tbody tr th {\n",
       "        vertical-align: top;\n",
       "    }\n",
       "\n",
       "    .dataframe thead th {\n",
       "        text-align: right;\n",
       "    }\n",
       "</style>\n",
       "<table border=\"1\" class=\"dataframe\">\n",
       "  <thead>\n",
       "    <tr style=\"text-align: right;\">\n",
       "      <th></th>\n",
       "      <th>FeaturesDropped</th>\n",
       "      <th>PredictionAccuracy</th>\n",
       "      <th>StandardDeviation</th>\n",
       "    </tr>\n",
       "  </thead>\n",
       "  <tbody>\n",
       "    <tr>\n",
       "      <th>0</th>\n",
       "      <td>RankDifference</td>\n",
       "      <td>0.613535</td>\n",
       "      <td>0.091903</td>\n",
       "    </tr>\n",
       "    <tr>\n",
       "      <th>1</th>\n",
       "      <td>[RankDifference, RankDifference]</td>\n",
       "      <td>0.613535</td>\n",
       "      <td>0.091903</td>\n",
       "    </tr>\n",
       "    <tr>\n",
       "      <th>2</th>\n",
       "      <td>[RankDifference, HeadToHeadDifference]</td>\n",
       "      <td>0.583509</td>\n",
       "      <td>0.058040</td>\n",
       "    </tr>\n",
       "    <tr>\n",
       "      <th>3</th>\n",
       "      <td>[RankDifference, DifferenceDurationOnCourtThis...</td>\n",
       "      <td>0.619665</td>\n",
       "      <td>0.085092</td>\n",
       "    </tr>\n",
       "    <tr>\n",
       "      <th>4</th>\n",
       "      <td>[RankDifference, DifferenceTournamentsInLastYear]</td>\n",
       "      <td>0.538049</td>\n",
       "      <td>0.049962</td>\n",
       "    </tr>\n",
       "  </tbody>\n",
       "</table>\n",
       "</div>"
      ],
      "text/plain": [
       "                                     FeaturesDropped  PredictionAccuracy  \\\n",
       "0                                     RankDifference            0.613535   \n",
       "1                   [RankDifference, RankDifference]            0.613535   \n",
       "2             [RankDifference, HeadToHeadDifference]            0.583509   \n",
       "3  [RankDifference, DifferenceDurationOnCourtThis...            0.619665   \n",
       "4  [RankDifference, DifferenceTournamentsInLastYear]            0.538049   \n",
       "\n",
       "   StandardDeviation  \n",
       "0           0.091903  \n",
       "1           0.091903  \n",
       "2           0.058040  \n",
       "3           0.085092  \n",
       "4           0.049962  "
      ]
     },
     "execution_count": 227,
     "metadata": {},
     "output_type": "execute_result"
    }
   ],
   "source": [
    "feature_testing = pd.concat([pd.Series(accomp_features_list),pd.Series(scores_list),pd.Series(sd_list)],axis=1)\n",
    "feature_testing.columns = (['FeaturesDropped','PredictionAccuracy','StandardDeviation'])\n",
    "feature_testing.head(5)"
   ]
  },
  {
   "cell_type": "code",
   "execution_count": 228,
   "metadata": {},
   "outputs": [
    {
     "name": "stdout",
     "output_type": "stream",
     "text": [
      "Max accuracy:\n",
      "FeaturesDropped       [HeadToHeadDifference, DifferenceDurationOnCou...\n",
      "PredictionAccuracy                                             0.694673\n",
      "StandardDeviation                                             0.0502262\n",
      "Name: 8, dtype: object\n"
     ]
    },
    {
     "data": {
      "image/png": "[encoded data removed]",
      "text/plain": [
       "<Figure size 432x288 with 2 Axes>"
      ]
     },
     "metadata": {
      "needs_background": "light"
     },
     "output_type": "display_data"
    }
   ],
   "source": [
    "print('Max accuracy:')\n",
    "print(feature_testing.iloc[feature_testing['PredictionAccuracy'].idxmax()])\n",
    "fig, ax1 = plt.subplots()\n",
    "\n",
    "color = 'tab:red'\n",
    "ax1.set_xlabel('Index')\n",
    "ax1.set_ylabel('Accuracy', color=color)\n",
    "ax1.plot(feature_testing.index, feature_testing.PredictionAccuracy, color=color, alpha=0.5)\n",
    "ax1.tick_params(axis='y', labelcolor=color)\n",
    "ax1.set_ylim([0.5,0.9])\n",
    "\n",
    "ax2 = ax1.twinx()  # instantiate a second axes that shares the same x-axis\n",
    "\n",
    "color = 'tab:blue'\n",
    "ax2.set_ylabel('Standard Deviation', color=color)  # we already handled the x-label with ax1\n",
    "ax2.plot(feature_testing.index, feature_testing.StandardDeviation, color=color, ls='--', alpha = 0.5)\n",
    "ax2.tick_params(axis='y', labelcolor=color)\n",
    "ax2.set_ylim([0,0.1])\n",
    "\n",
    "#Improving layout\n",
    "plt.xticks(feature_testing.index)\n",
    "fig.tight_layout()"
   ]
  },
  {
   "cell_type": "markdown",
   "metadata": {},
   "source": [
    "With these features it's unlikely good predictive accuracy can be obtained, even with more complex models. The best accuracy this analysis has been able to reach is ~69%."
   ]
  }
 ],
 "metadata": {
  "kernelspec": {
   "display_name": "Python 3",
   "language": "python",
   "name": "python3"
  },
  "language_info": {
   "codemirror_mode": {
    "name": "ipython",
    "version": 3
   },
   "file_extension": ".py",
   "mimetype": "text/x-python",
   "name": "python",
   "nbconvert_exporter": "python",
   "pygments_lexer": "ipython3",
   "version": "3.7.3"
  }
 },
 "nbformat": 4,
 "nbformat_minor": 2
}
